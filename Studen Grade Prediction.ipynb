{
 "cells": [
  {
   "cell_type": "markdown",
   "id": "d8fa61cb",
   "metadata": {},
   "source": [
    "# Load Libraries and Helper Function"
   ]
  },
  {
   "cell_type": "code",
   "execution_count": 1,
   "id": "5736819b",
   "metadata": {},
   "outputs": [],
   "source": [
    "# load data\n",
    "import pandas as pd\n",
    "import numpy as np\n",
    "import warnings\n",
    "warnings.simplefilter('ignore')\n",
    "\n",
    "# visualization\n",
    "import matplotlib.pyplot as plt\n",
    "import seaborn as sns\n",
    "\n",
    "# modelling\n",
    "import statsmodels.formula.api as smf\n",
    "from statsmodels.formula.api import ols\n",
    "import statsmodels.api as sm\n",
    "import scipy.stats as stats\n",
    "\n",
    "# cross validation using statsmodel preparation\n",
    "from sklearn.base import BaseEstimator, RegressorMixin\n",
    "from sklearn.metrics import r2_score\n",
    "from sklearn.model_selection import cross_val_score, cross_validate, KFold"
   ]
  },
  {
   "cell_type": "code",
   "execution_count": 2,
   "id": "c88b7bf5",
   "metadata": {},
   "outputs": [],
   "source": [
    "def print_coef_std_err(results):\n",
    "    \"\"\"\n",
    "    Function to combine estimated coefficients and standard error in one DataFrame\n",
    "    :param results: <statsmodels RegressionResultsWrapper> OLS regression results from \n",
    "    :return df: <pandas DataFrame> \n",
    "    \"\"\"\n",
    "    coef = results.params\n",
    "    std_err = results.bse\n",
    "    \n",
    "    df = pd.DataFrame(data = np.transpose([coef, std_err]), \n",
    "                      index = coef.index, \n",
    "                      columns=[\"coef\",\"std err\"])\n",
    "    return df"
   ]
  },
  {
   "cell_type": "markdown",
   "id": "d14b592e",
   "metadata": {},
   "source": [
    "# Data Cleaning and Preprocessing"
   ]
  },
  {
   "cell_type": "markdown",
   "id": "e247830a",
   "metadata": {},
   "source": [
    "### Membaca Data"
   ]
  },
  {
   "cell_type": "code",
   "execution_count": 3,
   "id": "b099c117",
   "metadata": {},
   "outputs": [
    {
     "data": {
      "text/html": [
       "<div>\n",
       "<style scoped>\n",
       "    .dataframe tbody tr th:only-of-type {\n",
       "        vertical-align: middle;\n",
       "    }\n",
       "\n",
       "    .dataframe tbody tr th {\n",
       "        vertical-align: top;\n",
       "    }\n",
       "\n",
       "    .dataframe thead th {\n",
       "        text-align: right;\n",
       "    }\n",
       "</style>\n",
       "<table border=\"1\" class=\"dataframe\">\n",
       "  <thead>\n",
       "    <tr style=\"text-align: right;\">\n",
       "      <th></th>\n",
       "      <th>school</th>\n",
       "      <th>sex</th>\n",
       "      <th>age</th>\n",
       "      <th>address</th>\n",
       "      <th>famsize</th>\n",
       "      <th>Pstatus</th>\n",
       "      <th>Medu</th>\n",
       "      <th>Fedu</th>\n",
       "      <th>Mjob</th>\n",
       "      <th>Fjob</th>\n",
       "      <th>...</th>\n",
       "      <th>famrel</th>\n",
       "      <th>freetime</th>\n",
       "      <th>goout</th>\n",
       "      <th>Dalc</th>\n",
       "      <th>Walc</th>\n",
       "      <th>health</th>\n",
       "      <th>absences</th>\n",
       "      <th>G1</th>\n",
       "      <th>G2</th>\n",
       "      <th>G3</th>\n",
       "    </tr>\n",
       "  </thead>\n",
       "  <tbody>\n",
       "    <tr>\n",
       "      <th>0</th>\n",
       "      <td>GP</td>\n",
       "      <td>F</td>\n",
       "      <td>18</td>\n",
       "      <td>U</td>\n",
       "      <td>GT3</td>\n",
       "      <td>A</td>\n",
       "      <td>4</td>\n",
       "      <td>4</td>\n",
       "      <td>at_home</td>\n",
       "      <td>teacher</td>\n",
       "      <td>...</td>\n",
       "      <td>4</td>\n",
       "      <td>3</td>\n",
       "      <td>4</td>\n",
       "      <td>1</td>\n",
       "      <td>1</td>\n",
       "      <td>3</td>\n",
       "      <td>6</td>\n",
       "      <td>5</td>\n",
       "      <td>6</td>\n",
       "      <td>6</td>\n",
       "    </tr>\n",
       "    <tr>\n",
       "      <th>1</th>\n",
       "      <td>GP</td>\n",
       "      <td>F</td>\n",
       "      <td>17</td>\n",
       "      <td>U</td>\n",
       "      <td>GT3</td>\n",
       "      <td>T</td>\n",
       "      <td>1</td>\n",
       "      <td>1</td>\n",
       "      <td>at_home</td>\n",
       "      <td>other</td>\n",
       "      <td>...</td>\n",
       "      <td>5</td>\n",
       "      <td>3</td>\n",
       "      <td>3</td>\n",
       "      <td>1</td>\n",
       "      <td>1</td>\n",
       "      <td>3</td>\n",
       "      <td>4</td>\n",
       "      <td>5</td>\n",
       "      <td>5</td>\n",
       "      <td>6</td>\n",
       "    </tr>\n",
       "    <tr>\n",
       "      <th>2</th>\n",
       "      <td>GP</td>\n",
       "      <td>F</td>\n",
       "      <td>15</td>\n",
       "      <td>U</td>\n",
       "      <td>LE3</td>\n",
       "      <td>T</td>\n",
       "      <td>1</td>\n",
       "      <td>1</td>\n",
       "      <td>at_home</td>\n",
       "      <td>other</td>\n",
       "      <td>...</td>\n",
       "      <td>4</td>\n",
       "      <td>3</td>\n",
       "      <td>2</td>\n",
       "      <td>2</td>\n",
       "      <td>3</td>\n",
       "      <td>3</td>\n",
       "      <td>10</td>\n",
       "      <td>7</td>\n",
       "      <td>8</td>\n",
       "      <td>10</td>\n",
       "    </tr>\n",
       "    <tr>\n",
       "      <th>3</th>\n",
       "      <td>GP</td>\n",
       "      <td>F</td>\n",
       "      <td>15</td>\n",
       "      <td>U</td>\n",
       "      <td>GT3</td>\n",
       "      <td>T</td>\n",
       "      <td>4</td>\n",
       "      <td>2</td>\n",
       "      <td>health</td>\n",
       "      <td>services</td>\n",
       "      <td>...</td>\n",
       "      <td>3</td>\n",
       "      <td>2</td>\n",
       "      <td>2</td>\n",
       "      <td>1</td>\n",
       "      <td>1</td>\n",
       "      <td>5</td>\n",
       "      <td>2</td>\n",
       "      <td>15</td>\n",
       "      <td>14</td>\n",
       "      <td>15</td>\n",
       "    </tr>\n",
       "    <tr>\n",
       "      <th>4</th>\n",
       "      <td>GP</td>\n",
       "      <td>F</td>\n",
       "      <td>16</td>\n",
       "      <td>U</td>\n",
       "      <td>GT3</td>\n",
       "      <td>T</td>\n",
       "      <td>3</td>\n",
       "      <td>3</td>\n",
       "      <td>other</td>\n",
       "      <td>other</td>\n",
       "      <td>...</td>\n",
       "      <td>4</td>\n",
       "      <td>3</td>\n",
       "      <td>2</td>\n",
       "      <td>1</td>\n",
       "      <td>2</td>\n",
       "      <td>5</td>\n",
       "      <td>4</td>\n",
       "      <td>6</td>\n",
       "      <td>10</td>\n",
       "      <td>10</td>\n",
       "    </tr>\n",
       "    <tr>\n",
       "      <th>...</th>\n",
       "      <td>...</td>\n",
       "      <td>...</td>\n",
       "      <td>...</td>\n",
       "      <td>...</td>\n",
       "      <td>...</td>\n",
       "      <td>...</td>\n",
       "      <td>...</td>\n",
       "      <td>...</td>\n",
       "      <td>...</td>\n",
       "      <td>...</td>\n",
       "      <td>...</td>\n",
       "      <td>...</td>\n",
       "      <td>...</td>\n",
       "      <td>...</td>\n",
       "      <td>...</td>\n",
       "      <td>...</td>\n",
       "      <td>...</td>\n",
       "      <td>...</td>\n",
       "      <td>...</td>\n",
       "      <td>...</td>\n",
       "      <td>...</td>\n",
       "    </tr>\n",
       "    <tr>\n",
       "      <th>390</th>\n",
       "      <td>MS</td>\n",
       "      <td>M</td>\n",
       "      <td>20</td>\n",
       "      <td>U</td>\n",
       "      <td>LE3</td>\n",
       "      <td>A</td>\n",
       "      <td>2</td>\n",
       "      <td>2</td>\n",
       "      <td>services</td>\n",
       "      <td>services</td>\n",
       "      <td>...</td>\n",
       "      <td>5</td>\n",
       "      <td>5</td>\n",
       "      <td>4</td>\n",
       "      <td>4</td>\n",
       "      <td>5</td>\n",
       "      <td>4</td>\n",
       "      <td>11</td>\n",
       "      <td>9</td>\n",
       "      <td>9</td>\n",
       "      <td>9</td>\n",
       "    </tr>\n",
       "    <tr>\n",
       "      <th>391</th>\n",
       "      <td>MS</td>\n",
       "      <td>M</td>\n",
       "      <td>17</td>\n",
       "      <td>U</td>\n",
       "      <td>LE3</td>\n",
       "      <td>T</td>\n",
       "      <td>3</td>\n",
       "      <td>1</td>\n",
       "      <td>services</td>\n",
       "      <td>services</td>\n",
       "      <td>...</td>\n",
       "      <td>2</td>\n",
       "      <td>4</td>\n",
       "      <td>5</td>\n",
       "      <td>3</td>\n",
       "      <td>4</td>\n",
       "      <td>2</td>\n",
       "      <td>3</td>\n",
       "      <td>14</td>\n",
       "      <td>16</td>\n",
       "      <td>16</td>\n",
       "    </tr>\n",
       "    <tr>\n",
       "      <th>392</th>\n",
       "      <td>MS</td>\n",
       "      <td>M</td>\n",
       "      <td>21</td>\n",
       "      <td>R</td>\n",
       "      <td>GT3</td>\n",
       "      <td>T</td>\n",
       "      <td>1</td>\n",
       "      <td>1</td>\n",
       "      <td>other</td>\n",
       "      <td>other</td>\n",
       "      <td>...</td>\n",
       "      <td>5</td>\n",
       "      <td>5</td>\n",
       "      <td>3</td>\n",
       "      <td>3</td>\n",
       "      <td>3</td>\n",
       "      <td>3</td>\n",
       "      <td>3</td>\n",
       "      <td>10</td>\n",
       "      <td>8</td>\n",
       "      <td>7</td>\n",
       "    </tr>\n",
       "    <tr>\n",
       "      <th>393</th>\n",
       "      <td>MS</td>\n",
       "      <td>M</td>\n",
       "      <td>18</td>\n",
       "      <td>R</td>\n",
       "      <td>LE3</td>\n",
       "      <td>T</td>\n",
       "      <td>3</td>\n",
       "      <td>2</td>\n",
       "      <td>services</td>\n",
       "      <td>other</td>\n",
       "      <td>...</td>\n",
       "      <td>4</td>\n",
       "      <td>4</td>\n",
       "      <td>1</td>\n",
       "      <td>3</td>\n",
       "      <td>4</td>\n",
       "      <td>5</td>\n",
       "      <td>0</td>\n",
       "      <td>11</td>\n",
       "      <td>12</td>\n",
       "      <td>10</td>\n",
       "    </tr>\n",
       "    <tr>\n",
       "      <th>394</th>\n",
       "      <td>MS</td>\n",
       "      <td>M</td>\n",
       "      <td>19</td>\n",
       "      <td>U</td>\n",
       "      <td>LE3</td>\n",
       "      <td>T</td>\n",
       "      <td>1</td>\n",
       "      <td>1</td>\n",
       "      <td>other</td>\n",
       "      <td>at_home</td>\n",
       "      <td>...</td>\n",
       "      <td>3</td>\n",
       "      <td>2</td>\n",
       "      <td>3</td>\n",
       "      <td>3</td>\n",
       "      <td>3</td>\n",
       "      <td>5</td>\n",
       "      <td>5</td>\n",
       "      <td>8</td>\n",
       "      <td>9</td>\n",
       "      <td>9</td>\n",
       "    </tr>\n",
       "  </tbody>\n",
       "</table>\n",
       "<p>395 rows × 33 columns</p>\n",
       "</div>"
      ],
      "text/plain": [
       "    school sex  age address famsize Pstatus  Medu  Fedu      Mjob      Fjob  \\\n",
       "0       GP   F   18       U     GT3       A     4     4   at_home   teacher   \n",
       "1       GP   F   17       U     GT3       T     1     1   at_home     other   \n",
       "2       GP   F   15       U     LE3       T     1     1   at_home     other   \n",
       "3       GP   F   15       U     GT3       T     4     2    health  services   \n",
       "4       GP   F   16       U     GT3       T     3     3     other     other   \n",
       "..     ...  ..  ...     ...     ...     ...   ...   ...       ...       ...   \n",
       "390     MS   M   20       U     LE3       A     2     2  services  services   \n",
       "391     MS   M   17       U     LE3       T     3     1  services  services   \n",
       "392     MS   M   21       R     GT3       T     1     1     other     other   \n",
       "393     MS   M   18       R     LE3       T     3     2  services     other   \n",
       "394     MS   M   19       U     LE3       T     1     1     other   at_home   \n",
       "\n",
       "     ... famrel freetime  goout  Dalc  Walc health absences  G1  G2  G3  \n",
       "0    ...      4        3      4     1     1      3        6   5   6   6  \n",
       "1    ...      5        3      3     1     1      3        4   5   5   6  \n",
       "2    ...      4        3      2     2     3      3       10   7   8  10  \n",
       "3    ...      3        2      2     1     1      5        2  15  14  15  \n",
       "4    ...      4        3      2     1     2      5        4   6  10  10  \n",
       "..   ...    ...      ...    ...   ...   ...    ...      ...  ..  ..  ..  \n",
       "390  ...      5        5      4     4     5      4       11   9   9   9  \n",
       "391  ...      2        4      5     3     4      2        3  14  16  16  \n",
       "392  ...      5        5      3     3     3      3        3  10   8   7  \n",
       "393  ...      4        4      1     3     4      5        0  11  12  10  \n",
       "394  ...      3        2      3     3     3      5        5   8   9   9  \n",
       "\n",
       "[395 rows x 33 columns]"
      ]
     },
     "execution_count": 3,
     "metadata": {},
     "output_type": "execute_result"
    }
   ],
   "source": [
    "df = pd.read_csv('student-mat.csv')\n",
    "df"
   ]
  },
  {
   "cell_type": "markdown",
   "id": "7e9a3d7b",
   "metadata": {},
   "source": [
    "### Mengecek missing value"
   ]
  },
  {
   "cell_type": "code",
   "execution_count": 4,
   "id": "c18c825d",
   "metadata": {},
   "outputs": [
    {
     "data": {
      "text/plain": [
       "school        0\n",
       "sex           0\n",
       "age           0\n",
       "address       0\n",
       "famsize       0\n",
       "Pstatus       0\n",
       "Medu          0\n",
       "Fedu          0\n",
       "Mjob          0\n",
       "Fjob          0\n",
       "reason        0\n",
       "guardian      0\n",
       "traveltime    0\n",
       "studytime     0\n",
       "failures      0\n",
       "schoolsup     0\n",
       "famsup        0\n",
       "paid          0\n",
       "activities    0\n",
       "nursery       0\n",
       "higher        0\n",
       "internet      0\n",
       "romantic      0\n",
       "famrel        0\n",
       "freetime      0\n",
       "goout         0\n",
       "Dalc          0\n",
       "Walc          0\n",
       "health        0\n",
       "absences      0\n",
       "G1            0\n",
       "G2            0\n",
       "G3            0\n",
       "dtype: int64"
      ]
     },
     "execution_count": 4,
     "metadata": {},
     "output_type": "execute_result"
    }
   ],
   "source": [
    "#Mengecek null value\n",
    "df.isna().sum()"
   ]
  },
  {
   "cell_type": "markdown",
   "id": "7c637d91",
   "metadata": {},
   "source": [
    "### Mengecek Duplikat"
   ]
  },
  {
   "cell_type": "code",
   "execution_count": 5,
   "id": "e059a9a7",
   "metadata": {},
   "outputs": [
    {
     "data": {
      "text/plain": [
       "0"
      ]
     },
     "execution_count": 5,
     "metadata": {},
     "output_type": "execute_result"
    }
   ],
   "source": [
    "#Mengecek duplikat\n",
    "df.duplicated().sum()"
   ]
  },
  {
   "cell_type": "markdown",
   "id": "1ac82d02",
   "metadata": {},
   "source": [
    "### Mengeluarkan variabel yang tidak digunakan"
   ]
  },
  {
   "cell_type": "code",
   "execution_count": 6,
   "id": "905ea185",
   "metadata": {},
   "outputs": [
    {
     "data": {
      "text/html": [
       "<div>\n",
       "<style scoped>\n",
       "    .dataframe tbody tr th:only-of-type {\n",
       "        vertical-align: middle;\n",
       "    }\n",
       "\n",
       "    .dataframe tbody tr th {\n",
       "        vertical-align: top;\n",
       "    }\n",
       "\n",
       "    .dataframe thead th {\n",
       "        text-align: right;\n",
       "    }\n",
       "</style>\n",
       "<table border=\"1\" class=\"dataframe\">\n",
       "  <thead>\n",
       "    <tr style=\"text-align: right;\">\n",
       "      <th></th>\n",
       "      <th>school</th>\n",
       "      <th>sex</th>\n",
       "      <th>age</th>\n",
       "      <th>famsize</th>\n",
       "      <th>Pstatus</th>\n",
       "      <th>Mjob</th>\n",
       "      <th>Fjob</th>\n",
       "      <th>studytime</th>\n",
       "      <th>failures</th>\n",
       "      <th>paid</th>\n",
       "      <th>activities</th>\n",
       "      <th>higher</th>\n",
       "      <th>freetime</th>\n",
       "      <th>G1</th>\n",
       "      <th>G2</th>\n",
       "      <th>G3</th>\n",
       "    </tr>\n",
       "  </thead>\n",
       "  <tbody>\n",
       "    <tr>\n",
       "      <th>0</th>\n",
       "      <td>GP</td>\n",
       "      <td>F</td>\n",
       "      <td>18</td>\n",
       "      <td>GT3</td>\n",
       "      <td>A</td>\n",
       "      <td>at_home</td>\n",
       "      <td>teacher</td>\n",
       "      <td>2</td>\n",
       "      <td>0</td>\n",
       "      <td>no</td>\n",
       "      <td>no</td>\n",
       "      <td>yes</td>\n",
       "      <td>3</td>\n",
       "      <td>5</td>\n",
       "      <td>6</td>\n",
       "      <td>6</td>\n",
       "    </tr>\n",
       "    <tr>\n",
       "      <th>1</th>\n",
       "      <td>GP</td>\n",
       "      <td>F</td>\n",
       "      <td>17</td>\n",
       "      <td>GT3</td>\n",
       "      <td>T</td>\n",
       "      <td>at_home</td>\n",
       "      <td>other</td>\n",
       "      <td>2</td>\n",
       "      <td>0</td>\n",
       "      <td>no</td>\n",
       "      <td>no</td>\n",
       "      <td>yes</td>\n",
       "      <td>3</td>\n",
       "      <td>5</td>\n",
       "      <td>5</td>\n",
       "      <td>6</td>\n",
       "    </tr>\n",
       "    <tr>\n",
       "      <th>2</th>\n",
       "      <td>GP</td>\n",
       "      <td>F</td>\n",
       "      <td>15</td>\n",
       "      <td>LE3</td>\n",
       "      <td>T</td>\n",
       "      <td>at_home</td>\n",
       "      <td>other</td>\n",
       "      <td>2</td>\n",
       "      <td>3</td>\n",
       "      <td>yes</td>\n",
       "      <td>no</td>\n",
       "      <td>yes</td>\n",
       "      <td>3</td>\n",
       "      <td>7</td>\n",
       "      <td>8</td>\n",
       "      <td>10</td>\n",
       "    </tr>\n",
       "    <tr>\n",
       "      <th>3</th>\n",
       "      <td>GP</td>\n",
       "      <td>F</td>\n",
       "      <td>15</td>\n",
       "      <td>GT3</td>\n",
       "      <td>T</td>\n",
       "      <td>health</td>\n",
       "      <td>services</td>\n",
       "      <td>3</td>\n",
       "      <td>0</td>\n",
       "      <td>yes</td>\n",
       "      <td>yes</td>\n",
       "      <td>yes</td>\n",
       "      <td>2</td>\n",
       "      <td>15</td>\n",
       "      <td>14</td>\n",
       "      <td>15</td>\n",
       "    </tr>\n",
       "    <tr>\n",
       "      <th>4</th>\n",
       "      <td>GP</td>\n",
       "      <td>F</td>\n",
       "      <td>16</td>\n",
       "      <td>GT3</td>\n",
       "      <td>T</td>\n",
       "      <td>other</td>\n",
       "      <td>other</td>\n",
       "      <td>2</td>\n",
       "      <td>0</td>\n",
       "      <td>yes</td>\n",
       "      <td>no</td>\n",
       "      <td>yes</td>\n",
       "      <td>3</td>\n",
       "      <td>6</td>\n",
       "      <td>10</td>\n",
       "      <td>10</td>\n",
       "    </tr>\n",
       "  </tbody>\n",
       "</table>\n",
       "</div>"
      ],
      "text/plain": [
       "  school sex  age famsize Pstatus     Mjob      Fjob  studytime  failures  \\\n",
       "0     GP   F   18     GT3       A  at_home   teacher          2         0   \n",
       "1     GP   F   17     GT3       T  at_home     other          2         0   \n",
       "2     GP   F   15     LE3       T  at_home     other          2         3   \n",
       "3     GP   F   15     GT3       T   health  services          3         0   \n",
       "4     GP   F   16     GT3       T    other     other          2         0   \n",
       "\n",
       "  paid activities higher  freetime  G1  G2  G3  \n",
       "0   no         no    yes         3   5   6   6  \n",
       "1   no         no    yes         3   5   5   6  \n",
       "2  yes         no    yes         3   7   8  10  \n",
       "3  yes        yes    yes         2  15  14  15  \n",
       "4  yes         no    yes         3   6  10  10  "
      ]
     },
     "execution_count": 6,
     "metadata": {},
     "output_type": "execute_result"
    }
   ],
   "source": [
    "#Drop data yang tidak diperlukan\n",
    "df = df.drop(['address', 'Medu', 'Fedu', 'reason','guardian', 'schoolsup', 'famsup', 'traveltime', 'nursery', 'internet', 'romantic', 'famrel', 'goout', 'Dalc', 'Walc', 'health', 'absences'], axis=1)\n",
    "df.head()"
   ]
  },
  {
   "cell_type": "markdown",
   "id": "577a11ac",
   "metadata": {},
   "source": [
    "### Tipe Data"
   ]
  },
  {
   "cell_type": "code",
   "execution_count": 7,
   "id": "6d84196f",
   "metadata": {},
   "outputs": [
    {
     "name": "stdout",
     "output_type": "stream",
     "text": [
      "<class 'pandas.core.frame.DataFrame'>\n",
      "RangeIndex: 395 entries, 0 to 394\n",
      "Data columns (total 16 columns):\n",
      " #   Column      Non-Null Count  Dtype \n",
      "---  ------      --------------  ----- \n",
      " 0   school      395 non-null    object\n",
      " 1   sex         395 non-null    object\n",
      " 2   age         395 non-null    int64 \n",
      " 3   famsize     395 non-null    object\n",
      " 4   Pstatus     395 non-null    object\n",
      " 5   Mjob        395 non-null    object\n",
      " 6   Fjob        395 non-null    object\n",
      " 7   studytime   395 non-null    int64 \n",
      " 8   failures    395 non-null    int64 \n",
      " 9   paid        395 non-null    object\n",
      " 10  activities  395 non-null    object\n",
      " 11  higher      395 non-null    object\n",
      " 12  freetime    395 non-null    int64 \n",
      " 13  G1          395 non-null    int64 \n",
      " 14  G2          395 non-null    int64 \n",
      " 15  G3          395 non-null    int64 \n",
      "dtypes: int64(7), object(9)\n",
      "memory usage: 49.5+ KB\n"
     ]
    }
   ],
   "source": [
    "df.info()"
   ]
  },
  {
   "cell_type": "markdown",
   "id": "dec644a1",
   "metadata": {},
   "source": [
    "### Mengubah Tipe Data"
   ]
  },
  {
   "cell_type": "code",
   "execution_count": 8,
   "id": "08060d3c",
   "metadata": {
    "scrolled": true
   },
   "outputs": [
    {
     "name": "stdout",
     "output_type": "stream",
     "text": [
      "<class 'pandas.core.frame.DataFrame'>\n",
      "RangeIndex: 395 entries, 0 to 394\n",
      "Data columns (total 16 columns):\n",
      " #   Column      Non-Null Count  Dtype   \n",
      "---  ------      --------------  -----   \n",
      " 0   school      395 non-null    category\n",
      " 1   sex         395 non-null    category\n",
      " 2   age         395 non-null    int64   \n",
      " 3   famsize     395 non-null    category\n",
      " 4   Pstatus     395 non-null    category\n",
      " 5   Mjob        395 non-null    category\n",
      " 6   Fjob        395 non-null    category\n",
      " 7   studytime   395 non-null    int64   \n",
      " 8   failures    395 non-null    int64   \n",
      " 9   paid        395 non-null    category\n",
      " 10  activities  395 non-null    category\n",
      " 11  higher      395 non-null    category\n",
      " 12  freetime    395 non-null    int64   \n",
      " 13  G1          395 non-null    int64   \n",
      " 14  G2          395 non-null    int64   \n",
      " 15  G3          395 non-null    int64   \n",
      "dtypes: category(9), int64(7)\n",
      "memory usage: 26.5 KB\n"
     ]
    }
   ],
   "source": [
    "#Mengubah tipe data\n",
    "cols = ['school', 'sex', 'famsize', 'Mjob', 'Fjob', 'Pstatus', 'paid', 'activities', 'higher']\n",
    "df[cols] = df[cols].astype('category')\n",
    "\n",
    "df.info()"
   ]
  },
  {
   "cell_type": "markdown",
   "id": "f01ed3de",
   "metadata": {},
   "source": [
    "# Exploratory Data Analysis"
   ]
  },
  {
   "cell_type": "code",
   "execution_count": 9,
   "id": "67dafd8c",
   "metadata": {},
   "outputs": [
    {
     "data": {
      "text/plain": [
       "<AxesSubplot:xlabel='school', ylabel='G3'>"
      ]
     },
     "execution_count": 9,
     "metadata": {},
     "output_type": "execute_result"
    },
    {
     "data": {
      "image/png": "[encoded data removed]",
      "text/plain": [
       "<Figure size 640x480 with 1 Axes>"
      ]
     },
     "metadata": {},
     "output_type": "display_data"
    }
   ],
   "source": [
    "# Kode di bawah bertujuan untuk melihat distribusi dari nilai berdasarkan kategori sekolah dengan menggunakan boxplot.\n",
    "sns.boxplot(x = \"school\", y = \"G3\", data = df, palette=\"Set1\")"
   ]
  },
  {
   "cell_type": "code",
   "execution_count": 10,
   "id": "83769c8d",
   "metadata": {},
   "outputs": [
    {
     "data": {
      "text/plain": [
       "<AxesSubplot:xlabel='sex', ylabel='G3'>"
      ]
     },
     "execution_count": 10,
     "metadata": {},
     "output_type": "execute_result"
    },
    {
     "data": {
      "image/png": "[encoded data removed]",
      "text/plain": [
       "<Figure size 640x480 with 1 Axes>"
      ]
     },
     "metadata": {},
     "output_type": "display_data"
    }
   ],
   "source": [
    "# Kode di bawah bertujuan untuk melihat distribusi dari nilai berdasarkan kategori jenis kelamin dengan menggunakan boxplot.\n",
    "sns.boxplot(x = \"sex\", y = \"G3\", data = df, palette=\"Set1\")"
   ]
  },
  {
   "cell_type": "code",
   "execution_count": 11,
   "id": "1e8eeafa",
   "metadata": {},
   "outputs": [
    {
     "data": {
      "text/plain": [
       "<AxesSubplot:xlabel='famsize', ylabel='G3'>"
      ]
     },
     "execution_count": 11,
     "metadata": {},
     "output_type": "execute_result"
    },
    {
     "data": {
      "image/png": "[encoded data removed]",
      "text/plain": [
       "<Figure size 640x480 with 1 Axes>"
      ]
     },
     "metadata": {},
     "output_type": "display_data"
    }
   ],
   "source": [
    "# Kode di bawah bertujuan untuk melihat distribusi dari nilai berdasarkan kategori jumlah anggota keluarga dengan menggunakan boxplot.\n",
    "sns.boxplot(x = \"famsize\", y = \"G3\", data = df, palette=\"Set1\")"
   ]
  },
  {
   "cell_type": "code",
   "execution_count": 12,
   "id": "4dcb532b",
   "metadata": {},
   "outputs": [
    {
     "data": {
      "text/plain": [
       "<AxesSubplot:xlabel='Pstatus', ylabel='G3'>"
      ]
     },
     "execution_count": 12,
     "metadata": {},
     "output_type": "execute_result"
    },
    {
     "data": {
      "image/png": "[encoded data removed]",
      "text/plain": [
       "<Figure size 640x480 with 1 Axes>"
      ]
     },
     "metadata": {},
     "output_type": "display_data"
    }
   ],
   "source": [
    "# Kode di bawah bertujuan untuk melihat distribusi dari nilai berdasarkan status orang tua dengan menggunakan boxplot.\n",
    "sns.boxplot(x = \"Pstatus\", y = \"G3\", data = df, palette=\"Set1\")"
   ]
  },
  {
   "cell_type": "code",
   "execution_count": 13,
   "id": "28f0e73c",
   "metadata": {},
   "outputs": [
    {
     "data": {
      "text/plain": [
       "<AxesSubplot:xlabel='Mjob', ylabel='G3'>"
      ]
     },
     "execution_count": 13,
     "metadata": {},
     "output_type": "execute_result"
    },
    {
     "data": {
      "image/png": "[encoded data removed]",
      "text/plain": [
       "<Figure size 640x480 with 1 Axes>"
      ]
     },
     "metadata": {},
     "output_type": "display_data"
    }
   ],
   "source": [
    "# Kode di bawah bertujuan untuk melihat distribusi dari nilai berdasarkan pekerjaan ibu dengan menggunakan boxplot.\n",
    "sns.boxplot(x = \"Mjob\", y = \"G3\", data = df, palette=\"Set1\")"
   ]
  },
  {
   "cell_type": "code",
   "execution_count": 14,
   "id": "6658ace8",
   "metadata": {},
   "outputs": [
    {
     "data": {
      "text/plain": [
       "<AxesSubplot:xlabel='Fjob', ylabel='G3'>"
      ]
     },
     "execution_count": 14,
     "metadata": {},
     "output_type": "execute_result"
    },
    {
     "data": {
      "image/png": "[encoded data removed]",
      "text/plain": [
       "<Figure size 640x480 with 1 Axes>"
      ]
     },
     "metadata": {},
     "output_type": "display_data"
    }
   ],
   "source": [
    "# Kode di bawah bertujuan untuk melihat distribusi dari nilai berdasarkan pekerjaan ayah dengan menggunakan boxplot.\n",
    "sns.boxplot(x = \"Fjob\", y = \"G3\", data = df, palette=\"Set1\")"
   ]
  },
  {
   "cell_type": "code",
   "execution_count": 15,
   "id": "dd785af6",
   "metadata": {},
   "outputs": [
    {
     "data": {
      "text/plain": [
       "<AxesSubplot:xlabel='paid', ylabel='G3'>"
      ]
     },
     "execution_count": 15,
     "metadata": {},
     "output_type": "execute_result"
    },
    {
     "data": {
      "image/png": "[encoded data removed]",
      "text/plain": [
       "<Figure size 640x480 with 1 Axes>"
      ]
     },
     "metadata": {},
     "output_type": "display_data"
    }
   ],
   "source": [
    "# Kode di bawah bertujuan untuk melihat distribusi dari nilai berdasarkan kategori mengikuti les di luar sekolah dengan menggunakan boxplot.\n",
    "sns.boxplot(x = \"paid\", y = \"G3\", data = df, palette=\"Set1\")"
   ]
  },
  {
   "cell_type": "markdown",
   "id": "a7cbcc8f",
   "metadata": {},
   "source": [
    "# Uji Statistik"
   ]
  },
  {
   "cell_type": "code",
   "execution_count": 16,
   "id": "778c9f90",
   "metadata": {},
   "outputs": [],
   "source": [
    "# Import module\n",
    "from scipy.stats import ttest_ind,levene,kruskal\n",
    "import statsmodels.api as sm\n",
    "from statsmodels.formula.api import ols\n",
    "from statsmodels.stats.multicomp import pairwise_tukeyhsd\n",
    "from statsmodels.stats.diagnostic import normal_ad"
   ]
  },
  {
   "cell_type": "markdown",
   "id": "e7cc30e0",
   "metadata": {},
   "source": [
    "### Jenis Kelamin"
   ]
  },
  {
   "cell_type": "code",
   "execution_count": 17,
   "id": "e0beb6a3",
   "metadata": {},
   "outputs": [
    {
     "name": "stdout",
     "output_type": "stream",
     "text": [
      "Banyak sampel untuk laki-laki = 187\n",
      "Banyak sampel untuk perempuan = 208\n",
      "==================================================\n",
      "Pertama, menyatakan hipotesis dan taraf signifikansi:\n",
      "H0 : mu_laki-laki - mu_perempuan <= 0\n",
      "H1 : mu_laki-laki - mu_perempuan > 0\n",
      "alpha = 0.05\n",
      "==================================================\n",
      "Statistik Hitung = 2.061992815503971\n",
      "P Value = 0.019932666170763818\n",
      "==================================================\n",
      "Kesimpulan :\n",
      "Berdasarkan hasil uji statistik di atas, nilai p-value yang diperoleh < 0.05 yang berartikan adanya perbedaan rata-rata probabilitas seseorang mendapat nilai lebih tinggi antara laki-laki dan perempuan secara signifikan. Oleh karena itu, diperoleh keputusan untuk menolak H0 yang dimana laki-laki memiliki rata-rata probabilitas mendapat nilai yang lebih tinggi dibandingkan dengan perempuan.\n"
     ]
    }
   ],
   "source": [
    "male = df[df[\"sex\"] == \"M\"][\"G3\"] # Membuat variabel untuk kategori laki-laki.\n",
    "female = df[df[\"sex\"] == \"F\"][\"G3\"] # Membuat variabel untuk kategori perempuan.\n",
    "\n",
    "n_male = male.shape[0] # Menghitung jumlah observasi pada kategori laki-laki.\n",
    "n_female = female.shape[0] # Menghitung jumlah obsercasi pada kategori perempuan.\n",
    "result = ttest_ind(male, female, equal_var = True, random_state = 42, alternative= 'greater') # melakukan Uji t.\n",
    "\n",
    "print(f'Banyak sampel untuk laki-laki = {n_male}')\n",
    "print(f'Banyak sampel untuk perempuan = {n_female}')\n",
    "print('='*50)\n",
    "\n",
    "print('Pertama, menyatakan hipotesis dan taraf signifikansi:')\n",
    "print('H0 : mu_laki-laki - mu_perempuan <= 0')\n",
    "print('H1 : mu_laki-laki - mu_perempuan > 0')\n",
    "print(\"alpha = 0.05\")\n",
    "print(\"=\"*50)\n",
    "\n",
    "print(f\"Statistik Hitung = {result[0]}\")\n",
    "print(f\"P Value = {result[1]}\")\n",
    "print(\"=\"*50)\n",
    "\n",
    "print(\"Kesimpulan :\")\n",
    "print(\"Berdasarkan hasil uji statistik di atas, nilai p-value yang diperoleh < 0.05 yang berartikan adanya perbedaan rata-rata probabilitas seseorang mendapat nilai lebih tinggi \\\n",
    "antara laki-laki dan perempuan secara signifikan. Oleh karena itu, diperoleh keputusan untuk menolak H0 yang dimana laki-laki memiliki rata-rata probabilitas mendapat nilai \\\n",
    "yang lebih tinggi dibandingkan dengan perempuan.\")"
   ]
  },
  {
   "cell_type": "markdown",
   "id": "32b99487",
   "metadata": {},
   "source": [
    "### Jenis Sekolah"
   ]
  },
  {
   "cell_type": "code",
   "execution_count": 18,
   "id": "a5f1fee4",
   "metadata": {},
   "outputs": [
    {
     "name": "stdout",
     "output_type": "stream",
     "text": [
      "Banyak sampel untuk yang bersekolah di Gabriel Pereira  = 349\n",
      "Banyak sampel untuk yang bersekolah di Mousinho da Silveira = 46\n",
      "==================================================\n",
      "Pertama, menyatakan hipotesis dan taraf signifikansi:\n",
      "H0 : mu_GP - mu_MS <= 0\n",
      "H1 : mu_GP - mu_MS > 0\n",
      "alpha = 0.05\n",
      "==================================================\n",
      "Statistik Hitung = 0.8933317649161906\n",
      "P Value = 0.18611311856557344\n",
      "==================================================\n",
      "Kesimpulan :\n",
      "Berdasarkan hasil uji statistik di atas, nilai p-value yang diperoleh < 0.05 yang berartikan adanya perbedaan rata-rata probabilitas seseorang mendapat nilai lebih tinggi antara antara yang bersekolah di Gabriel Pereira dengan Mousinho da Silveira secara signifikan. Oleh karena itu, diperoleh keputusan untuk menolak H0 yang dimana yang bersekolah di Gabriel Pereira memiliki rata-rata probabilitas mendapat nilai yang lebih tinggi dibandingkan dengan yang bersekolah di Mousinho da Silveira.\n"
     ]
    }
   ],
   "source": [
    "GP = df[df[\"school\"] == \"GP\"][\"G3\"] # Membuat variabel untuk kategori sekolah di Gabriel Pereira .\n",
    "MS = df[df[\"school\"] == \"MS\"][\"G3\"] # Membuat variabel untuk kategori sekolah di Mousinho da Silveira .\n",
    "\n",
    "n_GP = GP.shape[0] # Menghitung jumlah observasi pada kategori laki-laki.\n",
    "n_MS = MS.shape[0] # Menghitung jumlah obsercasi pada kategori perempuan.\n",
    "result = ttest_ind(GP, MS, equal_var = True, random_state = 42, alternative= 'greater') # melakukan Uji t.\n",
    "\n",
    "print(f'Banyak sampel untuk yang bersekolah di Gabriel Pereira  = {n_GP}')\n",
    "print(f'Banyak sampel untuk yang bersekolah di Mousinho da Silveira = {n_MS}')\n",
    "print('='*50)\n",
    "\n",
    "print('Pertama, menyatakan hipotesis dan taraf signifikansi:')\n",
    "print('H0 : mu_GP - mu_MS <= 0')\n",
    "print('H1 : mu_GP - mu_MS > 0')\n",
    "print(\"alpha = 0.05\")\n",
    "print(\"=\"*50)\n",
    "\n",
    "print(f\"Statistik Hitung = {result[0]}\")\n",
    "print(f\"P Value = {result[1]}\")\n",
    "print(\"=\"*50)\n",
    "\n",
    "print(\"Kesimpulan :\")\n",
    "print(\"Berdasarkan hasil uji statistik di atas, nilai p-value yang diperoleh < 0.05 yang berartikan adanya perbedaan rata-rata probabilitas seseorang mendapat nilai lebih tinggi \\\n",
    "antara antara yang bersekolah di Gabriel Pereira dengan Mousinho da Silveira secara signifikan. Oleh karena itu, diperoleh keputusan untuk menolak H0 yang dimana yang bersekolah di Gabriel Pereira memiliki rata-rata probabilitas mendapat nilai \\\n",
    "yang lebih tinggi dibandingkan dengan yang bersekolah di Mousinho da Silveira.\")"
   ]
  },
  {
   "cell_type": "markdown",
   "id": "412cd53f",
   "metadata": {},
   "source": [
    "### Jumlah Keluarga"
   ]
  },
  {
   "cell_type": "code",
   "execution_count": 19,
   "id": "621e8aef",
   "metadata": {},
   "outputs": [
    {
     "name": "stdout",
     "output_type": "stream",
     "text": [
      "Banyak sampel untuk jumlah anggota keluarga kurang dari 3  = 114\n",
      "Banyak sampel untuk jumlah anggota keluarga lebih dari 3 = 281\n",
      "==================================================\n",
      "Pertama, menyatakan hipotesis dan taraf signifikansi:\n",
      "H0 : mu_LE3 - mu_GT3 <= 0\n",
      "H1 : mu_LE3 - mu_GT3 > 0\n",
      "alpha = 0.05\n",
      "==================================================\n",
      "Statistik Hitung = -1.6192073299128047\n",
      "P Value = 0.9468975860807022\n",
      "==================================================\n",
      "Kesimpulan :\n",
      "Berdasarkan hasil uji statistik di atas, nilai p-value yang diperoleh < 0.05 yang berartikan adanya perbedaan rata-rata probabilitas seseorang mendapat nilai lebih tinggi antara seseorang dengan jumlah anggota keluarga kurang dari 3 dengan jumlah anggota keluarga lebih dari 3 secara signifikan. Oleh karena itu, diperoleh keputusan untuk menolak H0 yang dimana yang memiliki jumlah anggota keluarga kurang dari 3 memiliki rata-rata probabilitas mendapat nilai yang lebih tinggi dibandingkan dengan yang memiliki jumlah anggota keluarga lebih dari 3.\n"
     ]
    }
   ],
   "source": [
    "GT3 = df[df[\"famsize\"] == \"GT3\"][\"G3\"] # Membuat variabel untuk kategori jumlah anggota keluarga kurang dari 3.\n",
    "LE3 = df[df[\"famsize\"] == \"LE3\"][\"G3\"] # Membuat variabel untuk kategori jumlah anggota keluarga lebih dari 3.\n",
    "\n",
    "n_GT3 = GT3.shape[0] # Menghitung jumlah observasi pada kategori laki-laki.\n",
    "n_LE3 = LE3.shape[0] # Menghitung jumlah obsercasi pada kategori perempuan.\n",
    "result = ttest_ind(GT3, LE3, equal_var = True, random_state = 42, alternative= 'greater') # melakukan Uji t.\n",
    "\n",
    "print(f'Banyak sampel untuk jumlah anggota keluarga kurang dari 3  = {n_LE3}')\n",
    "print(f'Banyak sampel untuk jumlah anggota keluarga lebih dari 3 = {n_GT3}')\n",
    "print('='*50)\n",
    "\n",
    "print('Pertama, menyatakan hipotesis dan taraf signifikansi:')\n",
    "print('H0 : mu_LE3 - mu_GT3 <= 0')\n",
    "print('H1 : mu_LE3 - mu_GT3 > 0')\n",
    "print(\"alpha = 0.05\")\n",
    "print(\"=\"*50)\n",
    "\n",
    "print(f\"Statistik Hitung = {result[0]}\")\n",
    "print(f\"P Value = {result[1]}\")\n",
    "print(\"=\"*50)\n",
    "\n",
    "print(\"Kesimpulan :\")\n",
    "print(\"Berdasarkan hasil uji statistik di atas, nilai p-value yang diperoleh < 0.05 yang berartikan adanya perbedaan rata-rata probabilitas seseorang mendapat nilai lebih tinggi \\\n",
    "antara seseorang dengan jumlah anggota keluarga kurang dari 3 dengan jumlah anggota keluarga lebih dari 3 secara signifikan. Oleh karena itu, diperoleh keputusan untuk menolak H0 yang dimana yang memiliki jumlah anggota keluarga kurang dari 3 memiliki rata-rata probabilitas mendapat nilai \\\n",
    "yang lebih tinggi dibandingkan dengan yang memiliki jumlah anggota keluarga lebih dari 3.\")"
   ]
  },
  {
   "cell_type": "markdown",
   "id": "73c9af66",
   "metadata": {},
   "source": [
    "### Status Orang Tua"
   ]
  },
  {
   "cell_type": "code",
   "execution_count": 20,
   "id": "6ca000fc",
   "metadata": {},
   "outputs": [
    {
     "name": "stdout",
     "output_type": "stream",
     "text": [
      "Banyak sampel untuk orang tua yang tinggal bersama  = 354\n",
      "Banyak sampel untuk orang tua yang berpisah = 41\n",
      "==================================================\n",
      "Pertama, menyatakan hipotesis dan taraf signifikansi:\n",
      "H0 : mu_tinggal_bersama - mu_berpisah <= 0\n",
      "H1 : mu_tinggal_bersama - mu_berpisah > 0\n",
      "alpha = 0.05\n",
      "==================================================\n",
      "Statistik Hitung = -1.1519230889779004\n",
      "P Value = 0.8749735303680415\n",
      "==================================================\n",
      "Kesimpulan :\n",
      "Berdasarkan hasil uji statistik di atas, nilai p-value yang diperoleh < 0.05 yang berartikan adanya perbedaan rata-rata probabilitas seseorang mendapat nilai lebih tinggi antara seseorang dengan orang tua yang lengkap dengan orang tua yang berpisah secara signifikan. Oleh karena itu, diperoleh keputusan untuk menolak H0 yang dimana yang memiliki orang tua lengkap memiliki rata-rata probabilitas mendapat nilai yang lebih tinggi dibandingkan dengan yang memiliki orang tua yang berpisah.\n"
     ]
    }
   ],
   "source": [
    "T = df[df[\"Pstatus\"] == \"T\"][\"G3\"] # Membuat variabel untuk kategori orang tua yang tinggal bersama.\n",
    "A = df[df[\"Pstatus\"] == \"A\"][\"G3\"] # Membuat variabel untuk kategori orang tua yang berpisah.\n",
    "\n",
    "n_T = T.shape[0] # Menghitung jumlah observasi pada kategori laki-laki.\n",
    "n_A = A.shape[0] # Menghitung jumlah obsercasi pada kategori perempuan.\n",
    "result = ttest_ind(T, A, equal_var = True, random_state = 42, alternative= 'greater') # melakukan Uji t.\n",
    "\n",
    "print(f'Banyak sampel untuk orang tua yang tinggal bersama  = {n_T}')\n",
    "print(f'Banyak sampel untuk orang tua yang berpisah = {n_A}')\n",
    "print('='*50)\n",
    "\n",
    "print('Pertama, menyatakan hipotesis dan taraf signifikansi:')\n",
    "print('H0 : mu_tinggal_bersama - mu_berpisah <= 0')\n",
    "print('H1 : mu_tinggal_bersama - mu_berpisah > 0')\n",
    "print(\"alpha = 0.05\")\n",
    "print(\"=\"*50)\n",
    "\n",
    "print(f\"Statistik Hitung = {result[0]}\")\n",
    "print(f\"P Value = {result[1]}\")\n",
    "print(\"=\"*50)\n",
    "\n",
    "print(\"Kesimpulan :\")\n",
    "print(\"Berdasarkan hasil uji statistik di atas, nilai p-value yang diperoleh < 0.05 yang berartikan adanya perbedaan rata-rata probabilitas seseorang mendapat nilai lebih tinggi \\\n",
    "antara seseorang dengan orang tua yang lengkap dengan orang tua yang berpisah secara signifikan. Oleh karena itu, diperoleh keputusan untuk menolak H0 yang dimana yang memiliki orang tua lengkap memiliki rata-rata probabilitas mendapat nilai \\\n",
    "yang lebih tinggi dibandingkan dengan yang memiliki orang tua yang berpisah.\")"
   ]
  },
  {
   "cell_type": "markdown",
   "id": "2a0cfdf4",
   "metadata": {},
   "source": [
    "### Jenis Pekerjaan Ibu"
   ]
  },
  {
   "cell_type": "code",
   "execution_count": 21,
   "id": "d6260485",
   "metadata": {},
   "outputs": [
    {
     "name": "stdout",
     "output_type": "stream",
     "text": [
      "Pertama, menyatakan hipotesis dan taraf signifikansi :\n",
      "H0 : mu_at_home = mu_health = mu_other mJob = mu_services = mu_teacher\n",
      "H1 : Setidaknya terdapat satu yang berbeda\n",
      "Alpha = 0.05\n",
      "==================================================\n",
      "Hasil dari Uji ANOVA :\n",
      "             df       sum_sq    mean_sq        F    PR(>F)\n",
      "Mjob        4.0   306.643668  76.660917  3.75446  0.005195\n",
      "Residual  390.0  7963.265193  20.418629      NaN       NaN\n",
      "==================================================\n",
      "Kesimpulan :\n",
      "Karena hasil uji ANOVA menyatakan p-value > 0.05, maka keputusan yang diperoleh adalah gagal untuk menolak H0 yang dimana tidak adanya perbedaan rata - rata probabilitas seseorang mendapat nilai yang lebih tinggi yang signifkan dengan pekerjaan Ibunya\n"
     ]
    }
   ],
   "source": [
    "# Kode di bawah ini bertujuan untuk melakukan uji ANOVA pada pengaruh jenis pekerjaan ibu\n",
    "print(\"Pertama, menyatakan hipotesis dan taraf signifikansi :\")\n",
    "print(\"H0 : mu_at_home = mu_health = mu_other mJob = mu_services = mu_teacher\")\n",
    "print(\"H1 : Setidaknya terdapat satu yang berbeda\")\n",
    "print(\"Alpha = 0.05\")\n",
    "\n",
    "model_sampo = ols('G3 ~ Mjob', data = df).fit() # Membuat persamaan linear antara nilai dengan variabel Mjob.\n",
    "aov_table_1 = sm.stats.anova_lm(model_sampo) # Melakuakn uji ANOVA.\n",
    "\n",
    "print(\"=\"*50)\n",
    "\n",
    "print(\"Hasil dari Uji ANOVA :\")\n",
    "print(aov_table_1)\n",
    "print(\"=\"*50)\n",
    "\n",
    "print(\"Kesimpulan :\")\n",
    "print(\"Karena hasil uji ANOVA menyatakan p-value > 0.05, maka keputusan yang diperoleh adalah gagal untuk menolak H0 yang dimana tidak adanya perbedaan rata - rata probabilitas seseorang \\\n",
    "mendapat nilai yang lebih tinggi yang signifkan dengan pekerjaan Ibunya\" )"
   ]
  },
  {
   "cell_type": "markdown",
   "id": "84eed6ce",
   "metadata": {},
   "source": [
    "### Jenis Pekerjaan Ayah"
   ]
  },
  {
   "cell_type": "code",
   "execution_count": 22,
   "id": "eff9a6d7",
   "metadata": {},
   "outputs": [
    {
     "name": "stdout",
     "output_type": "stream",
     "text": [
      "Pertama, menyatakan hipotesis dan taraf signifikansi :\n",
      "H0 : mu_at_home = mu_health = mu_other Fjob = mu_services = mu_teacher\n",
      "H1 : Setidaknya terdapat satu yang berbeda\n",
      "Alpha = 0.05\n",
      "==================================================\n",
      "Hasil dari Uji ANOVA :\n",
      "             df       sum_sq    mean_sq         F    PR(>F)\n",
      "Fjob        4.0   109.055409  27.263852  1.302915  0.268314\n",
      "Residual  390.0  8160.853452  20.925265       NaN       NaN\n",
      "==================================================\n",
      "Kesimpulan :\n",
      "Karena hasil uji ANOVA menyatakan p-value > 0.05, maka keputusan yang diperoleh adalah gagal untuk menolak H0 yang dimana tidak adanya perbedaan rata - rata probabilitas seseorang mendapat nilai yang lebih tinggi yang signifkan dengan pekerjaan Ayahnya\n"
     ]
    }
   ],
   "source": [
    "# Kode di bawah ini bertujuan untuk melakukan uji ANOVA pada pengaruh jenis pekerjaan ayah\n",
    "print(\"Pertama, menyatakan hipotesis dan taraf signifikansi :\")\n",
    "print(\"H0 : mu_at_home = mu_health = mu_other Fjob = mu_services = mu_teacher\")\n",
    "print(\"H1 : Setidaknya terdapat satu yang berbeda\")\n",
    "print(\"Alpha = 0.05\")\n",
    "\n",
    "model_sampo = ols('G3 ~ Fjob', data = df).fit() # Membuat persamaan linear antara nilai dengan variabel Fjob.\n",
    "aov_table_1 = sm.stats.anova_lm(model_sampo) # Melakuakn uji ANOVA.\n",
    "\n",
    "print(\"=\"*50)\n",
    "\n",
    "print(\"Hasil dari Uji ANOVA :\")\n",
    "print(aov_table_1)\n",
    "print(\"=\"*50)\n",
    "\n",
    "print(\"Kesimpulan :\")\n",
    "print(\"Karena hasil uji ANOVA menyatakan p-value > 0.05, maka keputusan yang diperoleh adalah gagal untuk menolak H0 yang dimana tidak adanya perbedaan rata - rata probabilitas seseorang \\\n",
    "mendapat nilai yang lebih tinggi yang signifkan dengan pekerjaan Ayahnya\" )"
   ]
  },
  {
   "cell_type": "markdown",
   "id": "546a124c",
   "metadata": {},
   "source": [
    "### Status mengikuti les di luar kelas"
   ]
  },
  {
   "cell_type": "code",
   "execution_count": 23,
   "id": "0307cf1c",
   "metadata": {},
   "outputs": [
    {
     "name": "stdout",
     "output_type": "stream",
     "text": [
      "Banyak sampel untuk murid yang mengikuti les di luar kelas  = 281\n",
      "Banyak sampel untuk murid yang tidak mengikuti les di luar kelas = 114\n",
      "==================================================\n",
      "Pertama, menyatakan hipotesis dan taraf signifikansi:\n",
      "H0 : mu_yes - mu_no <= 0\n",
      "H1 : mu_yes - mu_no > 0\n",
      "alpha = 0.05\n",
      "==================================================\n",
      "Statistik Hitung = 2.0325971231028626\n",
      "P Value = 0.021382532016787765\n",
      "==================================================\n",
      "Kesimpulan :\n",
      "Berdasarkan hasil uji statistik di atas, nilai p-value yang diperoleh < 0.05 yang berartikan adanya perbedaan rata-rata probabilitas seseorang mendapat nilai lebih tinggi antara murid yang mengikuti les di luar kelas dengan murid yang tidak mengikuti les di luar kelas secara signifikan. Oleh karena itu, diperoleh keputusan untuk menolak H0 yang dimana murid yang mengikuti les di luar kelas memiliki rata-rata probabilitas mendapat nilai yang lebih tinggi dibandingkan dengan murid yang tidak mengikuti les di luar kelas.\n"
     ]
    }
   ],
   "source": [
    "yes = df[df[\"paid\"] == \"yes\"][\"G3\"] # Membuat variabel untuk kategori mengikuti les di luar kelas.\n",
    "no = df[df[\"paid\"] == \"no\"][\"G3\"] # Membuat variabel untuk kategori tidak mengikuti les di luar kelas.\n",
    "\n",
    "n_yes = GT3.shape[0] # Menghitung jumlah observasi pada kategori laki-laki.\n",
    "n_no = LE3.shape[0] # Menghitung jumlah obsercasi pada kategori perempuan.\n",
    "result = ttest_ind(yes, no, equal_var = True, random_state = 42, alternative= 'greater') # melakukan Uji t.\n",
    "\n",
    "print(f'Banyak sampel untuk murid yang mengikuti les di luar kelas  = {n_yes}')\n",
    "print(f'Banyak sampel untuk murid yang tidak mengikuti les di luar kelas = {n_no}')\n",
    "print('='*50)\n",
    "\n",
    "print('Pertama, menyatakan hipotesis dan taraf signifikansi:')\n",
    "print('H0 : mu_yes - mu_no <= 0')\n",
    "print('H1 : mu_yes - mu_no > 0')\n",
    "print(\"alpha = 0.05\")\n",
    "print(\"=\"*50)\n",
    "\n",
    "print(f\"Statistik Hitung = {result[0]}\")\n",
    "print(f\"P Value = {result[1]}\")\n",
    "print(\"=\"*50)\n",
    "\n",
    "print(\"Kesimpulan :\")\n",
    "print(\"Berdasarkan hasil uji statistik di atas, nilai p-value yang diperoleh < 0.05 yang berartikan adanya perbedaan rata-rata probabilitas seseorang mendapat nilai lebih tinggi \\\n",
    "antara murid yang mengikuti les di luar kelas dengan murid yang tidak mengikuti les di luar kelas secara signifikan. Oleh karena itu, diperoleh keputusan untuk menolak H0 yang dimana murid yang mengikuti les di luar kelas memiliki rata-rata probabilitas mendapat nilai \\\n",
    "yang lebih tinggi dibandingkan dengan murid yang tidak mengikuti les di luar kelas.\")"
   ]
  },
  {
   "cell_type": "markdown",
   "id": "4e86fa4f",
   "metadata": {},
   "source": [
    "### Numerical Variabels"
   ]
  },
  {
   "cell_type": "code",
   "execution_count": 24,
   "id": "21f8964b",
   "metadata": {
    "scrolled": true
   },
   "outputs": [
    {
     "data": {
      "image/png": "[encoded data removed]",
      "text/plain": [
       "<Figure size 1750x1750 with 56 Axes>"
      ]
     },
     "metadata": {},
     "output_type": "display_data"
    }
   ],
   "source": [
    "# Kode di bawah bertujuan untuk memvisualisasikan interaksi antara bebera features dengan meggunakan scatter plot dan kde plot.\n",
    "columns_ = [\"age\", \"studytime\", \"failures\", \"freetime\", \"G1\", \"G2\", \"G3\"]\n",
    "sns.pairplot(df[columns_], diag_kind = 'kde')\n",
    "plt.show()"
   ]
  },
  {
   "cell_type": "markdown",
   "id": "9ed3cfab",
   "metadata": {},
   "source": [
    "## Correlation Analysis"
   ]
  },
  {
   "cell_type": "code",
   "execution_count": 25,
   "id": "9cd6a867",
   "metadata": {
    "scrolled": true
   },
   "outputs": [
    {
     "data": {
      "image/png": "[encoded data removed]",
      "text/plain": [
       "<Figure size 700x700 with 2 Axes>"
      ]
     },
     "metadata": {},
     "output_type": "display_data"
    }
   ],
   "source": [
    "# Kode di bawah untuk melihat korelasi antar features.\n",
    "corr_ = df[columns_].corr()\n",
    "plt.figure(figsize = (7,7))\n",
    "sns.heatmap(corr_, fmt= \".3f\", annot= True,square= True)\n",
    "plt.show()"
   ]
  },
  {
   "cell_type": "markdown",
   "id": "4f42eff2",
   "metadata": {},
   "source": [
    "# Building Regression Model"
   ]
  },
  {
   "cell_type": "code",
   "execution_count": 26,
   "id": "a17e4ae5",
   "metadata": {
    "scrolled": false
   },
   "outputs": [
    {
     "data": {
      "text/html": [
       "<div>\n",
       "<style scoped>\n",
       "    .dataframe tbody tr th:only-of-type {\n",
       "        vertical-align: middle;\n",
       "    }\n",
       "\n",
       "    .dataframe tbody tr th {\n",
       "        vertical-align: top;\n",
       "    }\n",
       "\n",
       "    .dataframe thead th {\n",
       "        text-align: right;\n",
       "    }\n",
       "</style>\n",
       "<table border=\"1\" class=\"dataframe\">\n",
       "  <thead>\n",
       "    <tr style=\"text-align: right;\">\n",
       "      <th></th>\n",
       "      <th>school</th>\n",
       "      <th>sex</th>\n",
       "      <th>age</th>\n",
       "      <th>famsize</th>\n",
       "      <th>Pstatus</th>\n",
       "      <th>Mjob</th>\n",
       "      <th>Fjob</th>\n",
       "      <th>studytime</th>\n",
       "      <th>failures</th>\n",
       "      <th>paid</th>\n",
       "      <th>activities</th>\n",
       "      <th>higher</th>\n",
       "      <th>freetime</th>\n",
       "      <th>G1</th>\n",
       "      <th>G2</th>\n",
       "      <th>G3</th>\n",
       "    </tr>\n",
       "  </thead>\n",
       "  <tbody>\n",
       "    <tr>\n",
       "      <th>0</th>\n",
       "      <td>GP</td>\n",
       "      <td>F</td>\n",
       "      <td>18</td>\n",
       "      <td>GT3</td>\n",
       "      <td>A</td>\n",
       "      <td>at_home</td>\n",
       "      <td>teacher</td>\n",
       "      <td>2</td>\n",
       "      <td>0</td>\n",
       "      <td>no</td>\n",
       "      <td>no</td>\n",
       "      <td>yes</td>\n",
       "      <td>3</td>\n",
       "      <td>5</td>\n",
       "      <td>6</td>\n",
       "      <td>6</td>\n",
       "    </tr>\n",
       "    <tr>\n",
       "      <th>1</th>\n",
       "      <td>GP</td>\n",
       "      <td>F</td>\n",
       "      <td>17</td>\n",
       "      <td>GT3</td>\n",
       "      <td>T</td>\n",
       "      <td>at_home</td>\n",
       "      <td>other</td>\n",
       "      <td>2</td>\n",
       "      <td>0</td>\n",
       "      <td>no</td>\n",
       "      <td>no</td>\n",
       "      <td>yes</td>\n",
       "      <td>3</td>\n",
       "      <td>5</td>\n",
       "      <td>5</td>\n",
       "      <td>6</td>\n",
       "    </tr>\n",
       "    <tr>\n",
       "      <th>2</th>\n",
       "      <td>GP</td>\n",
       "      <td>F</td>\n",
       "      <td>15</td>\n",
       "      <td>LE3</td>\n",
       "      <td>T</td>\n",
       "      <td>at_home</td>\n",
       "      <td>other</td>\n",
       "      <td>2</td>\n",
       "      <td>3</td>\n",
       "      <td>yes</td>\n",
       "      <td>no</td>\n",
       "      <td>yes</td>\n",
       "      <td>3</td>\n",
       "      <td>7</td>\n",
       "      <td>8</td>\n",
       "      <td>10</td>\n",
       "    </tr>\n",
       "    <tr>\n",
       "      <th>3</th>\n",
       "      <td>GP</td>\n",
       "      <td>F</td>\n",
       "      <td>15</td>\n",
       "      <td>GT3</td>\n",
       "      <td>T</td>\n",
       "      <td>health</td>\n",
       "      <td>services</td>\n",
       "      <td>3</td>\n",
       "      <td>0</td>\n",
       "      <td>yes</td>\n",
       "      <td>yes</td>\n",
       "      <td>yes</td>\n",
       "      <td>2</td>\n",
       "      <td>15</td>\n",
       "      <td>14</td>\n",
       "      <td>15</td>\n",
       "    </tr>\n",
       "    <tr>\n",
       "      <th>4</th>\n",
       "      <td>GP</td>\n",
       "      <td>F</td>\n",
       "      <td>16</td>\n",
       "      <td>GT3</td>\n",
       "      <td>T</td>\n",
       "      <td>other</td>\n",
       "      <td>other</td>\n",
       "      <td>2</td>\n",
       "      <td>0</td>\n",
       "      <td>yes</td>\n",
       "      <td>no</td>\n",
       "      <td>yes</td>\n",
       "      <td>3</td>\n",
       "      <td>6</td>\n",
       "      <td>10</td>\n",
       "      <td>10</td>\n",
       "    </tr>\n",
       "    <tr>\n",
       "      <th>...</th>\n",
       "      <td>...</td>\n",
       "      <td>...</td>\n",
       "      <td>...</td>\n",
       "      <td>...</td>\n",
       "      <td>...</td>\n",
       "      <td>...</td>\n",
       "      <td>...</td>\n",
       "      <td>...</td>\n",
       "      <td>...</td>\n",
       "      <td>...</td>\n",
       "      <td>...</td>\n",
       "      <td>...</td>\n",
       "      <td>...</td>\n",
       "      <td>...</td>\n",
       "      <td>...</td>\n",
       "      <td>...</td>\n",
       "    </tr>\n",
       "    <tr>\n",
       "      <th>390</th>\n",
       "      <td>MS</td>\n",
       "      <td>M</td>\n",
       "      <td>20</td>\n",
       "      <td>LE3</td>\n",
       "      <td>A</td>\n",
       "      <td>services</td>\n",
       "      <td>services</td>\n",
       "      <td>2</td>\n",
       "      <td>2</td>\n",
       "      <td>yes</td>\n",
       "      <td>no</td>\n",
       "      <td>yes</td>\n",
       "      <td>5</td>\n",
       "      <td>9</td>\n",
       "      <td>9</td>\n",
       "      <td>9</td>\n",
       "    </tr>\n",
       "    <tr>\n",
       "      <th>391</th>\n",
       "      <td>MS</td>\n",
       "      <td>M</td>\n",
       "      <td>17</td>\n",
       "      <td>LE3</td>\n",
       "      <td>T</td>\n",
       "      <td>services</td>\n",
       "      <td>services</td>\n",
       "      <td>1</td>\n",
       "      <td>0</td>\n",
       "      <td>no</td>\n",
       "      <td>no</td>\n",
       "      <td>yes</td>\n",
       "      <td>4</td>\n",
       "      <td>14</td>\n",
       "      <td>16</td>\n",
       "      <td>16</td>\n",
       "    </tr>\n",
       "    <tr>\n",
       "      <th>392</th>\n",
       "      <td>MS</td>\n",
       "      <td>M</td>\n",
       "      <td>21</td>\n",
       "      <td>GT3</td>\n",
       "      <td>T</td>\n",
       "      <td>other</td>\n",
       "      <td>other</td>\n",
       "      <td>1</td>\n",
       "      <td>3</td>\n",
       "      <td>no</td>\n",
       "      <td>no</td>\n",
       "      <td>yes</td>\n",
       "      <td>5</td>\n",
       "      <td>10</td>\n",
       "      <td>8</td>\n",
       "      <td>7</td>\n",
       "    </tr>\n",
       "    <tr>\n",
       "      <th>393</th>\n",
       "      <td>MS</td>\n",
       "      <td>M</td>\n",
       "      <td>18</td>\n",
       "      <td>LE3</td>\n",
       "      <td>T</td>\n",
       "      <td>services</td>\n",
       "      <td>other</td>\n",
       "      <td>1</td>\n",
       "      <td>0</td>\n",
       "      <td>no</td>\n",
       "      <td>no</td>\n",
       "      <td>yes</td>\n",
       "      <td>4</td>\n",
       "      <td>11</td>\n",
       "      <td>12</td>\n",
       "      <td>10</td>\n",
       "    </tr>\n",
       "    <tr>\n",
       "      <th>394</th>\n",
       "      <td>MS</td>\n",
       "      <td>M</td>\n",
       "      <td>19</td>\n",
       "      <td>LE3</td>\n",
       "      <td>T</td>\n",
       "      <td>other</td>\n",
       "      <td>at_home</td>\n",
       "      <td>1</td>\n",
       "      <td>0</td>\n",
       "      <td>no</td>\n",
       "      <td>no</td>\n",
       "      <td>yes</td>\n",
       "      <td>2</td>\n",
       "      <td>8</td>\n",
       "      <td>9</td>\n",
       "      <td>9</td>\n",
       "    </tr>\n",
       "  </tbody>\n",
       "</table>\n",
       "<p>395 rows × 16 columns</p>\n",
       "</div>"
      ],
      "text/plain": [
       "    school sex  age famsize Pstatus      Mjob      Fjob  studytime  failures  \\\n",
       "0       GP   F   18     GT3       A   at_home   teacher          2         0   \n",
       "1       GP   F   17     GT3       T   at_home     other          2         0   \n",
       "2       GP   F   15     LE3       T   at_home     other          2         3   \n",
       "3       GP   F   15     GT3       T    health  services          3         0   \n",
       "4       GP   F   16     GT3       T     other     other          2         0   \n",
       "..     ...  ..  ...     ...     ...       ...       ...        ...       ...   \n",
       "390     MS   M   20     LE3       A  services  services          2         2   \n",
       "391     MS   M   17     LE3       T  services  services          1         0   \n",
       "392     MS   M   21     GT3       T     other     other          1         3   \n",
       "393     MS   M   18     LE3       T  services     other          1         0   \n",
       "394     MS   M   19     LE3       T     other   at_home          1         0   \n",
       "\n",
       "    paid activities higher  freetime  G1  G2  G3  \n",
       "0     no         no    yes         3   5   6   6  \n",
       "1     no         no    yes         3   5   5   6  \n",
       "2    yes         no    yes         3   7   8  10  \n",
       "3    yes        yes    yes         2  15  14  15  \n",
       "4    yes         no    yes         3   6  10  10  \n",
       "..   ...        ...    ...       ...  ..  ..  ..  \n",
       "390  yes         no    yes         5   9   9   9  \n",
       "391   no         no    yes         4  14  16  16  \n",
       "392   no         no    yes         5  10   8   7  \n",
       "393   no         no    yes         4  11  12  10  \n",
       "394   no         no    yes         2   8   9   9  \n",
       "\n",
       "[395 rows x 16 columns]"
      ]
     },
     "execution_count": 26,
     "metadata": {},
     "output_type": "execute_result"
    }
   ],
   "source": [
    "df"
   ]
  },
  {
   "cell_type": "markdown",
   "id": "ae8ec53f",
   "metadata": {},
   "source": [
    "### Mengeluarkan variabel yang tidak memberikan efek signifikan terhadap G3"
   ]
  },
  {
   "cell_type": "code",
   "execution_count": 27,
   "id": "1353440c",
   "metadata": {
    "scrolled": true
   },
   "outputs": [
    {
     "data": {
      "text/html": [
       "<div>\n",
       "<style scoped>\n",
       "    .dataframe tbody tr th:only-of-type {\n",
       "        vertical-align: middle;\n",
       "    }\n",
       "\n",
       "    .dataframe tbody tr th {\n",
       "        vertical-align: top;\n",
       "    }\n",
       "\n",
       "    .dataframe thead th {\n",
       "        text-align: right;\n",
       "    }\n",
       "</style>\n",
       "<table border=\"1\" class=\"dataframe\">\n",
       "  <thead>\n",
       "    <tr style=\"text-align: right;\">\n",
       "      <th></th>\n",
       "      <th>school</th>\n",
       "      <th>sex</th>\n",
       "      <th>famsize</th>\n",
       "      <th>Pstatus</th>\n",
       "      <th>Mjob</th>\n",
       "      <th>Fjob</th>\n",
       "      <th>failures</th>\n",
       "      <th>paid</th>\n",
       "      <th>G1</th>\n",
       "      <th>G2</th>\n",
       "      <th>G3</th>\n",
       "    </tr>\n",
       "  </thead>\n",
       "  <tbody>\n",
       "    <tr>\n",
       "      <th>0</th>\n",
       "      <td>GP</td>\n",
       "      <td>F</td>\n",
       "      <td>GT3</td>\n",
       "      <td>A</td>\n",
       "      <td>at_home</td>\n",
       "      <td>teacher</td>\n",
       "      <td>0</td>\n",
       "      <td>no</td>\n",
       "      <td>5</td>\n",
       "      <td>6</td>\n",
       "      <td>6</td>\n",
       "    </tr>\n",
       "    <tr>\n",
       "      <th>1</th>\n",
       "      <td>GP</td>\n",
       "      <td>F</td>\n",
       "      <td>GT3</td>\n",
       "      <td>T</td>\n",
       "      <td>at_home</td>\n",
       "      <td>other</td>\n",
       "      <td>0</td>\n",
       "      <td>no</td>\n",
       "      <td>5</td>\n",
       "      <td>5</td>\n",
       "      <td>6</td>\n",
       "    </tr>\n",
       "    <tr>\n",
       "      <th>2</th>\n",
       "      <td>GP</td>\n",
       "      <td>F</td>\n",
       "      <td>LE3</td>\n",
       "      <td>T</td>\n",
       "      <td>at_home</td>\n",
       "      <td>other</td>\n",
       "      <td>3</td>\n",
       "      <td>yes</td>\n",
       "      <td>7</td>\n",
       "      <td>8</td>\n",
       "      <td>10</td>\n",
       "    </tr>\n",
       "    <tr>\n",
       "      <th>3</th>\n",
       "      <td>GP</td>\n",
       "      <td>F</td>\n",
       "      <td>GT3</td>\n",
       "      <td>T</td>\n",
       "      <td>health</td>\n",
       "      <td>services</td>\n",
       "      <td>0</td>\n",
       "      <td>yes</td>\n",
       "      <td>15</td>\n",
       "      <td>14</td>\n",
       "      <td>15</td>\n",
       "    </tr>\n",
       "    <tr>\n",
       "      <th>4</th>\n",
       "      <td>GP</td>\n",
       "      <td>F</td>\n",
       "      <td>GT3</td>\n",
       "      <td>T</td>\n",
       "      <td>other</td>\n",
       "      <td>other</td>\n",
       "      <td>0</td>\n",
       "      <td>yes</td>\n",
       "      <td>6</td>\n",
       "      <td>10</td>\n",
       "      <td>10</td>\n",
       "    </tr>\n",
       "    <tr>\n",
       "      <th>...</th>\n",
       "      <td>...</td>\n",
       "      <td>...</td>\n",
       "      <td>...</td>\n",
       "      <td>...</td>\n",
       "      <td>...</td>\n",
       "      <td>...</td>\n",
       "      <td>...</td>\n",
       "      <td>...</td>\n",
       "      <td>...</td>\n",
       "      <td>...</td>\n",
       "      <td>...</td>\n",
       "    </tr>\n",
       "    <tr>\n",
       "      <th>390</th>\n",
       "      <td>MS</td>\n",
       "      <td>M</td>\n",
       "      <td>LE3</td>\n",
       "      <td>A</td>\n",
       "      <td>services</td>\n",
       "      <td>services</td>\n",
       "      <td>2</td>\n",
       "      <td>yes</td>\n",
       "      <td>9</td>\n",
       "      <td>9</td>\n",
       "      <td>9</td>\n",
       "    </tr>\n",
       "    <tr>\n",
       "      <th>391</th>\n",
       "      <td>MS</td>\n",
       "      <td>M</td>\n",
       "      <td>LE3</td>\n",
       "      <td>T</td>\n",
       "      <td>services</td>\n",
       "      <td>services</td>\n",
       "      <td>0</td>\n",
       "      <td>no</td>\n",
       "      <td>14</td>\n",
       "      <td>16</td>\n",
       "      <td>16</td>\n",
       "    </tr>\n",
       "    <tr>\n",
       "      <th>392</th>\n",
       "      <td>MS</td>\n",
       "      <td>M</td>\n",
       "      <td>GT3</td>\n",
       "      <td>T</td>\n",
       "      <td>other</td>\n",
       "      <td>other</td>\n",
       "      <td>3</td>\n",
       "      <td>no</td>\n",
       "      <td>10</td>\n",
       "      <td>8</td>\n",
       "      <td>7</td>\n",
       "    </tr>\n",
       "    <tr>\n",
       "      <th>393</th>\n",
       "      <td>MS</td>\n",
       "      <td>M</td>\n",
       "      <td>LE3</td>\n",
       "      <td>T</td>\n",
       "      <td>services</td>\n",
       "      <td>other</td>\n",
       "      <td>0</td>\n",
       "      <td>no</td>\n",
       "      <td>11</td>\n",
       "      <td>12</td>\n",
       "      <td>10</td>\n",
       "    </tr>\n",
       "    <tr>\n",
       "      <th>394</th>\n",
       "      <td>MS</td>\n",
       "      <td>M</td>\n",
       "      <td>LE3</td>\n",
       "      <td>T</td>\n",
       "      <td>other</td>\n",
       "      <td>at_home</td>\n",
       "      <td>0</td>\n",
       "      <td>no</td>\n",
       "      <td>8</td>\n",
       "      <td>9</td>\n",
       "      <td>9</td>\n",
       "    </tr>\n",
       "  </tbody>\n",
       "</table>\n",
       "<p>395 rows × 11 columns</p>\n",
       "</div>"
      ],
      "text/plain": [
       "    school sex famsize Pstatus      Mjob      Fjob  failures paid  G1  G2  G3\n",
       "0       GP   F     GT3       A   at_home   teacher         0   no   5   6   6\n",
       "1       GP   F     GT3       T   at_home     other         0   no   5   5   6\n",
       "2       GP   F     LE3       T   at_home     other         3  yes   7   8  10\n",
       "3       GP   F     GT3       T    health  services         0  yes  15  14  15\n",
       "4       GP   F     GT3       T     other     other         0  yes   6  10  10\n",
       "..     ...  ..     ...     ...       ...       ...       ...  ...  ..  ..  ..\n",
       "390     MS   M     LE3       A  services  services         2  yes   9   9   9\n",
       "391     MS   M     LE3       T  services  services         0   no  14  16  16\n",
       "392     MS   M     GT3       T     other     other         3   no  10   8   7\n",
       "393     MS   M     LE3       T  services     other         0   no  11  12  10\n",
       "394     MS   M     LE3       T     other   at_home         0   no   8   9   9\n",
       "\n",
       "[395 rows x 11 columns]"
      ]
     },
     "execution_count": 27,
     "metadata": {},
     "output_type": "execute_result"
    }
   ],
   "source": [
    "# Exclude variabel-variabel yang tidak memberikan efek signifikan terhadap G3\n",
    "df.drop(['age', 'studytime', 'freetime', 'activities', 'higher'], axis=1, inplace = True)\n",
    "df"
   ]
  },
  {
   "cell_type": "markdown",
   "id": "8c715a0a",
   "metadata": {},
   "source": [
    "### Convert some variabels into binary"
   ]
  },
  {
   "cell_type": "code",
   "execution_count": 28,
   "id": "022d06c0",
   "metadata": {
    "scrolled": true
   },
   "outputs": [
    {
     "data": {
      "text/html": [
       "<div>\n",
       "<style scoped>\n",
       "    .dataframe tbody tr th:only-of-type {\n",
       "        vertical-align: middle;\n",
       "    }\n",
       "\n",
       "    .dataframe tbody tr th {\n",
       "        vertical-align: top;\n",
       "    }\n",
       "\n",
       "    .dataframe thead th {\n",
       "        text-align: right;\n",
       "    }\n",
       "</style>\n",
       "<table border=\"1\" class=\"dataframe\">\n",
       "  <thead>\n",
       "    <tr style=\"text-align: right;\">\n",
       "      <th></th>\n",
       "      <th>school</th>\n",
       "      <th>sex</th>\n",
       "      <th>famsize</th>\n",
       "      <th>Pstatus</th>\n",
       "      <th>Mjob</th>\n",
       "      <th>Fjob</th>\n",
       "      <th>failures</th>\n",
       "      <th>paid</th>\n",
       "      <th>G1</th>\n",
       "      <th>G2</th>\n",
       "      <th>G3</th>\n",
       "    </tr>\n",
       "  </thead>\n",
       "  <tbody>\n",
       "    <tr>\n",
       "      <th>0</th>\n",
       "      <td>GP</td>\n",
       "      <td>0</td>\n",
       "      <td>GT3</td>\n",
       "      <td>0</td>\n",
       "      <td>at_home</td>\n",
       "      <td>teacher</td>\n",
       "      <td>0</td>\n",
       "      <td>0</td>\n",
       "      <td>5</td>\n",
       "      <td>6</td>\n",
       "      <td>6</td>\n",
       "    </tr>\n",
       "    <tr>\n",
       "      <th>1</th>\n",
       "      <td>GP</td>\n",
       "      <td>0</td>\n",
       "      <td>GT3</td>\n",
       "      <td>1</td>\n",
       "      <td>at_home</td>\n",
       "      <td>other</td>\n",
       "      <td>0</td>\n",
       "      <td>0</td>\n",
       "      <td>5</td>\n",
       "      <td>5</td>\n",
       "      <td>6</td>\n",
       "    </tr>\n",
       "    <tr>\n",
       "      <th>2</th>\n",
       "      <td>GP</td>\n",
       "      <td>0</td>\n",
       "      <td>LE3</td>\n",
       "      <td>1</td>\n",
       "      <td>at_home</td>\n",
       "      <td>other</td>\n",
       "      <td>3</td>\n",
       "      <td>1</td>\n",
       "      <td>7</td>\n",
       "      <td>8</td>\n",
       "      <td>10</td>\n",
       "    </tr>\n",
       "    <tr>\n",
       "      <th>3</th>\n",
       "      <td>GP</td>\n",
       "      <td>0</td>\n",
       "      <td>GT3</td>\n",
       "      <td>1</td>\n",
       "      <td>health</td>\n",
       "      <td>services</td>\n",
       "      <td>0</td>\n",
       "      <td>1</td>\n",
       "      <td>15</td>\n",
       "      <td>14</td>\n",
       "      <td>15</td>\n",
       "    </tr>\n",
       "    <tr>\n",
       "      <th>4</th>\n",
       "      <td>GP</td>\n",
       "      <td>0</td>\n",
       "      <td>GT3</td>\n",
       "      <td>1</td>\n",
       "      <td>other</td>\n",
       "      <td>other</td>\n",
       "      <td>0</td>\n",
       "      <td>1</td>\n",
       "      <td>6</td>\n",
       "      <td>10</td>\n",
       "      <td>10</td>\n",
       "    </tr>\n",
       "  </tbody>\n",
       "</table>\n",
       "</div>"
      ],
      "text/plain": [
       "  school  sex famsize  Pstatus     Mjob      Fjob  failures  paid  G1  G2  G3\n",
       "0     GP    0     GT3        0  at_home   teacher         0     0   5   6   6\n",
       "1     GP    0     GT3        1  at_home     other         0     0   5   5   6\n",
       "2     GP    0     LE3        1  at_home     other         3     1   7   8  10\n",
       "3     GP    0     GT3        1   health  services         0     1  15  14  15\n",
       "4     GP    0     GT3        1    other     other         0     1   6  10  10"
      ]
     },
     "execution_count": 28,
     "metadata": {},
     "output_type": "execute_result"
    }
   ],
   "source": [
    "# Use LabelEncoder to convert the Pstatus and paid variable into numeric\n",
    "from sklearn.preprocessing import LabelEncoder\n",
    "\n",
    "# Create LabelEncoder Object and transform the Pstatus and paid variable\n",
    "df[\"Pstatus\"] = LabelEncoder().fit_transform(df[\"Pstatus\"])\n",
    "df[\"paid\"] = LabelEncoder().fit_transform(df[\"paid\"])\n",
    "df[\"sex\"] = LabelEncoder().fit_transform(df[\"sex\"])\n",
    "df.head()"
   ]
  },
  {
   "cell_type": "code",
   "execution_count": 29,
   "id": "d853f675",
   "metadata": {},
   "outputs": [],
   "source": [
    "class StatsmodelsRegressor(BaseEstimator, RegressorMixin):\n",
    "    \"\"\" A universal sklearn-style wrapper for statsmodels regressors \"\"\"\n",
    "    \n",
    "    def __init__(self, sm_class, sm_formula):\n",
    "        self.sm_class = sm_class\n",
    "        self.sm_formula = sm_formula\n",
    "        self.model = None\n",
    "        self.result = None\n",
    " \n",
    "    def fit(self, data, dummy):\n",
    "        self.model = self.sm_class(self.sm_formula, data)\n",
    "        self.result = self.model.fit()\n",
    " \n",
    "    def predict(self,X):\n",
    "        return self.result.predict(X)\n",
    "\n",
    "def kfold_split(data, n_fold):\n",
    "    \"\"\"\n",
    "    Function to combine estimated coefficients and standard error in one DataFrame\n",
    "    :param data: <pandas DataFrame> \n",
    "    :param n_fold: <int> Number of fold in k-fold CV\n",
    "    :return fold_train: <pandas DataFrame> Training Data\n",
    "    :return fold_test: <pandas DataFrame> Testing Data\n",
    "    \"\"\"\n",
    "    kfold = KFold(n_splits = n_fold, \n",
    "                  shuffle = True, \n",
    "                  random_state=123)\n",
    "    fold_train = {}\n",
    "    fold_test = {}\n",
    "\n",
    "    for i, (train, test) in enumerate(kfold.split(data)):\n",
    "        print(f\"fold {i+1}, train data rows: {len(train)}, test data rows: {len(test)}\")\n",
    "        fold_train[i] = data.iloc[train].copy()\n",
    "        fold_test[i] = data.iloc[test].copy()\n",
    "        \n",
    "    return (fold_train, fold_test)"
   ]
  },
  {
   "cell_type": "markdown",
   "id": "be859376",
   "metadata": {},
   "source": [
    "## Evaluate a model using K-fold cross validation"
   ]
  },
  {
   "cell_type": "code",
   "execution_count": 30,
   "id": "8b86bcce",
   "metadata": {},
   "outputs": [
    {
     "data": {
      "text/html": [
       "<div>\n",
       "<style scoped>\n",
       "    .dataframe tbody tr th:only-of-type {\n",
       "        vertical-align: middle;\n",
       "    }\n",
       "\n",
       "    .dataframe tbody tr th {\n",
       "        vertical-align: top;\n",
       "    }\n",
       "\n",
       "    .dataframe thead th {\n",
       "        text-align: right;\n",
       "    }\n",
       "</style>\n",
       "<table border=\"1\" class=\"dataframe\">\n",
       "  <thead>\n",
       "    <tr style=\"text-align: right;\">\n",
       "      <th></th>\n",
       "      <th>test_rsquared</th>\n",
       "      <th>folds</th>\n",
       "    </tr>\n",
       "  </thead>\n",
       "  <tbody>\n",
       "    <tr>\n",
       "      <th>0</th>\n",
       "      <td>0.836166</td>\n",
       "      <td>Folds 1</td>\n",
       "    </tr>\n",
       "    <tr>\n",
       "      <th>1</th>\n",
       "      <td>0.784702</td>\n",
       "      <td>Folds 2</td>\n",
       "    </tr>\n",
       "    <tr>\n",
       "      <th>2</th>\n",
       "      <td>0.829680</td>\n",
       "      <td>Folds 3</td>\n",
       "    </tr>\n",
       "    <tr>\n",
       "      <th>3</th>\n",
       "      <td>0.788347</td>\n",
       "      <td>Folds 4</td>\n",
       "    </tr>\n",
       "    <tr>\n",
       "      <th>4</th>\n",
       "      <td>0.806959</td>\n",
       "      <td>Folds 5</td>\n",
       "    </tr>\n",
       "  </tbody>\n",
       "</table>\n",
       "</div>"
      ],
      "text/plain": [
       "   test_rsquared    folds\n",
       "0       0.836166  Folds 1\n",
       "1       0.784702  Folds 2\n",
       "2       0.829680  Folds 3\n",
       "3       0.788347  Folds 4\n",
       "4       0.806959  Folds 5"
      ]
     },
     "execution_count": 30,
     "metadata": {},
     "output_type": "execute_result"
    }
   ],
   "source": [
    "# Create a class model\n",
    "ols_all_pred = StatsmodelsRegressor(smf.ols, \"G3 ~ school + sex + famsize + Pstatus + Mjob + Fjob + failures + paid + G1 + G2\")\n",
    "\n",
    "# Create k-fold splitter object\n",
    "kfold = KFold(n_splits=5, shuffle = True, random_state=123)\n",
    "\n",
    "scores_ols_all_pred = cross_val_score(estimator = ols_all_pred,\n",
    "                                       X = df,\n",
    "                                       y = df[\"G3\"],\n",
    "                                       cv = kfold,\n",
    "                                       scoring = \"r2\")\n",
    "scores_ols_all_pred = pd.DataFrame(data = scores_ols_all_pred, \n",
    "                                    columns=[\"test_rsquared\"])\n",
    "scores_ols_all_pred[\"folds\"] = [f\"Folds {i+1}\" for i in range(5)]\n",
    "scores_ols_all_pred"
   ]
  },
  {
   "cell_type": "code",
   "execution_count": 31,
   "id": "1b70c228",
   "metadata": {},
   "outputs": [
    {
     "data": {
      "text/plain": [
       "0.8091705624975267"
      ]
     },
     "execution_count": 31,
     "metadata": {},
     "output_type": "execute_result"
    }
   ],
   "source": [
    "scores_ols_all_pred[\"test_rsquared\"].mean()"
   ]
  },
  {
   "cell_type": "markdown",
   "id": "def1b7b6",
   "metadata": {},
   "source": [
    "The model use all media have good fit, it can explain 80.92% variance of salary. Let's build the model using whole data to infer the estimated coefficient from the model, and gain the insight from business prespective"
   ]
  },
  {
   "cell_type": "markdown",
   "id": "8872186b",
   "metadata": {},
   "source": [
    "## Fit Linear Regression - Using All Predictors"
   ]
  },
  {
   "cell_type": "code",
   "execution_count": 32,
   "id": "2beeb026",
   "metadata": {},
   "outputs": [
    {
     "data": {
      "text/html": [
       "<div>\n",
       "<style scoped>\n",
       "    .dataframe tbody tr th:only-of-type {\n",
       "        vertical-align: middle;\n",
       "    }\n",
       "\n",
       "    .dataframe tbody tr th {\n",
       "        vertical-align: top;\n",
       "    }\n",
       "\n",
       "    .dataframe thead th {\n",
       "        text-align: right;\n",
       "    }\n",
       "</style>\n",
       "<table border=\"1\" class=\"dataframe\">\n",
       "  <thead>\n",
       "    <tr style=\"text-align: right;\">\n",
       "      <th></th>\n",
       "      <th>coef</th>\n",
       "      <th>std err</th>\n",
       "    </tr>\n",
       "  </thead>\n",
       "  <tbody>\n",
       "    <tr>\n",
       "      <th>Intercept</th>\n",
       "      <td>-1.757218</td>\n",
       "      <td>0.701163</td>\n",
       "    </tr>\n",
       "    <tr>\n",
       "      <th>school[T.MS]</th>\n",
       "      <td>0.110904</td>\n",
       "      <td>0.312522</td>\n",
       "    </tr>\n",
       "    <tr>\n",
       "      <th>famsize[T.LE3]</th>\n",
       "      <td>0.017126</td>\n",
       "      <td>0.223434</td>\n",
       "    </tr>\n",
       "    <tr>\n",
       "      <th>Mjob[T.health]</th>\n",
       "      <td>-0.036540</td>\n",
       "      <td>0.437405</td>\n",
       "    </tr>\n",
       "    <tr>\n",
       "      <th>Mjob[T.other]</th>\n",
       "      <td>0.100525</td>\n",
       "      <td>0.310963</td>\n",
       "    </tr>\n",
       "    <tr>\n",
       "      <th>Mjob[T.services]</th>\n",
       "      <td>0.229394</td>\n",
       "      <td>0.329910</td>\n",
       "    </tr>\n",
       "    <tr>\n",
       "      <th>Mjob[T.teacher]</th>\n",
       "      <td>0.061675</td>\n",
       "      <td>0.387656</td>\n",
       "    </tr>\n",
       "    <tr>\n",
       "      <th>Fjob[T.health]</th>\n",
       "      <td>0.735147</td>\n",
       "      <td>0.651993</td>\n",
       "    </tr>\n",
       "    <tr>\n",
       "      <th>Fjob[T.other]</th>\n",
       "      <td>0.360474</td>\n",
       "      <td>0.467221</td>\n",
       "    </tr>\n",
       "    <tr>\n",
       "      <th>Fjob[T.services]</th>\n",
       "      <td>-0.019338</td>\n",
       "      <td>0.484948</td>\n",
       "    </tr>\n",
       "    <tr>\n",
       "      <th>Fjob[T.teacher]</th>\n",
       "      <td>0.172361</td>\n",
       "      <td>0.583511</td>\n",
       "    </tr>\n",
       "    <tr>\n",
       "      <th>sex</th>\n",
       "      <td>0.216815</td>\n",
       "      <td>0.207029</td>\n",
       "    </tr>\n",
       "    <tr>\n",
       "      <th>Pstatus</th>\n",
       "      <td>-0.304496</td>\n",
       "      <td>0.330166</td>\n",
       "    </tr>\n",
       "    <tr>\n",
       "      <th>failures</th>\n",
       "      <td>-0.229118</td>\n",
       "      <td>0.147894</td>\n",
       "    </tr>\n",
       "    <tr>\n",
       "      <th>paid</th>\n",
       "      <td>0.086480</td>\n",
       "      <td>0.208607</td>\n",
       "    </tr>\n",
       "    <tr>\n",
       "      <th>G1</th>\n",
       "      <td>0.149215</td>\n",
       "      <td>0.059245</td>\n",
       "    </tr>\n",
       "    <tr>\n",
       "      <th>G2</th>\n",
       "      <td>0.970103</td>\n",
       "      <td>0.051746</td>\n",
       "    </tr>\n",
       "  </tbody>\n",
       "</table>\n",
       "</div>"
      ],
      "text/plain": [
       "                      coef   std err\n",
       "Intercept        -1.757218  0.701163\n",
       "school[T.MS]      0.110904  0.312522\n",
       "famsize[T.LE3]    0.017126  0.223434\n",
       "Mjob[T.health]   -0.036540  0.437405\n",
       "Mjob[T.other]     0.100525  0.310963\n",
       "Mjob[T.services]  0.229394  0.329910\n",
       "Mjob[T.teacher]   0.061675  0.387656\n",
       "Fjob[T.health]    0.735147  0.651993\n",
       "Fjob[T.other]     0.360474  0.467221\n",
       "Fjob[T.services] -0.019338  0.484948\n",
       "Fjob[T.teacher]   0.172361  0.583511\n",
       "sex               0.216815  0.207029\n",
       "Pstatus          -0.304496  0.330166\n",
       "failures         -0.229118  0.147894\n",
       "paid              0.086480  0.208607\n",
       "G1                0.149215  0.059245\n",
       "G2                0.970103  0.051746"
      ]
     },
     "execution_count": 32,
     "metadata": {},
     "output_type": "execute_result"
    }
   ],
   "source": [
    "# Create OLS model object\n",
    "model = smf.ols(\"G3 ~ school + sex + famsize + Pstatus + Mjob + Fjob + failures + paid + G1 + G2\", df)\n",
    "\n",
    "# Fit the model\n",
    "results_model_G3 = model.fit()\n",
    "\n",
    "# Extract the results (Coefficient and Standard Error) to DataFrame\n",
    "results_G3 = print_coef_std_err(results_model_G3)\n",
    "results_G3"
   ]
  },
  {
   "cell_type": "markdown",
   "id": "b9019817",
   "metadata": {},
   "source": [
    "Nilai intercept negatif sehingga kurang bermakna."
   ]
  },
  {
   "cell_type": "code",
   "execution_count": 33,
   "id": "7475a6ab",
   "metadata": {},
   "outputs": [
    {
     "data": {
      "text/html": [
       "<div>\n",
       "<style scoped>\n",
       "    .dataframe tbody tr th:only-of-type {\n",
       "        vertical-align: middle;\n",
       "    }\n",
       "\n",
       "    .dataframe tbody tr th {\n",
       "        vertical-align: top;\n",
       "    }\n",
       "\n",
       "    .dataframe thead th {\n",
       "        text-align: right;\n",
       "    }\n",
       "</style>\n",
       "<table border=\"1\" class=\"dataframe\">\n",
       "  <thead>\n",
       "    <tr style=\"text-align: right;\">\n",
       "      <th></th>\n",
       "      <th>Pstatus</th>\n",
       "      <th>Mjob</th>\n",
       "      <th>Fjob</th>\n",
       "      <th>failures</th>\n",
       "      <th>paid</th>\n",
       "      <th>G1</th>\n",
       "      <th>G2</th>\n",
       "      <th>G3</th>\n",
       "      <th>school_GP</th>\n",
       "      <th>school_MS</th>\n",
       "      <th>sex_0</th>\n",
       "      <th>sex_1</th>\n",
       "      <th>famsize_GT3</th>\n",
       "      <th>famsize_LE3</th>\n",
       "    </tr>\n",
       "  </thead>\n",
       "  <tbody>\n",
       "    <tr>\n",
       "      <th>0</th>\n",
       "      <td>0</td>\n",
       "      <td>at_home</td>\n",
       "      <td>teacher</td>\n",
       "      <td>0</td>\n",
       "      <td>0</td>\n",
       "      <td>5</td>\n",
       "      <td>6</td>\n",
       "      <td>6</td>\n",
       "      <td>1</td>\n",
       "      <td>0</td>\n",
       "      <td>1</td>\n",
       "      <td>0</td>\n",
       "      <td>1</td>\n",
       "      <td>0</td>\n",
       "    </tr>\n",
       "    <tr>\n",
       "      <th>1</th>\n",
       "      <td>1</td>\n",
       "      <td>at_home</td>\n",
       "      <td>other</td>\n",
       "      <td>0</td>\n",
       "      <td>0</td>\n",
       "      <td>5</td>\n",
       "      <td>5</td>\n",
       "      <td>6</td>\n",
       "      <td>1</td>\n",
       "      <td>0</td>\n",
       "      <td>1</td>\n",
       "      <td>0</td>\n",
       "      <td>1</td>\n",
       "      <td>0</td>\n",
       "    </tr>\n",
       "    <tr>\n",
       "      <th>2</th>\n",
       "      <td>1</td>\n",
       "      <td>at_home</td>\n",
       "      <td>other</td>\n",
       "      <td>3</td>\n",
       "      <td>1</td>\n",
       "      <td>7</td>\n",
       "      <td>8</td>\n",
       "      <td>10</td>\n",
       "      <td>1</td>\n",
       "      <td>0</td>\n",
       "      <td>1</td>\n",
       "      <td>0</td>\n",
       "      <td>0</td>\n",
       "      <td>1</td>\n",
       "    </tr>\n",
       "    <tr>\n",
       "      <th>3</th>\n",
       "      <td>1</td>\n",
       "      <td>health</td>\n",
       "      <td>services</td>\n",
       "      <td>0</td>\n",
       "      <td>1</td>\n",
       "      <td>15</td>\n",
       "      <td>14</td>\n",
       "      <td>15</td>\n",
       "      <td>1</td>\n",
       "      <td>0</td>\n",
       "      <td>1</td>\n",
       "      <td>0</td>\n",
       "      <td>1</td>\n",
       "      <td>0</td>\n",
       "    </tr>\n",
       "    <tr>\n",
       "      <th>4</th>\n",
       "      <td>1</td>\n",
       "      <td>other</td>\n",
       "      <td>other</td>\n",
       "      <td>0</td>\n",
       "      <td>1</td>\n",
       "      <td>6</td>\n",
       "      <td>10</td>\n",
       "      <td>10</td>\n",
       "      <td>1</td>\n",
       "      <td>0</td>\n",
       "      <td>1</td>\n",
       "      <td>0</td>\n",
       "      <td>1</td>\n",
       "      <td>0</td>\n",
       "    </tr>\n",
       "    <tr>\n",
       "      <th>...</th>\n",
       "      <td>...</td>\n",
       "      <td>...</td>\n",
       "      <td>...</td>\n",
       "      <td>...</td>\n",
       "      <td>...</td>\n",
       "      <td>...</td>\n",
       "      <td>...</td>\n",
       "      <td>...</td>\n",
       "      <td>...</td>\n",
       "      <td>...</td>\n",
       "      <td>...</td>\n",
       "      <td>...</td>\n",
       "      <td>...</td>\n",
       "      <td>...</td>\n",
       "    </tr>\n",
       "    <tr>\n",
       "      <th>390</th>\n",
       "      <td>0</td>\n",
       "      <td>services</td>\n",
       "      <td>services</td>\n",
       "      <td>2</td>\n",
       "      <td>1</td>\n",
       "      <td>9</td>\n",
       "      <td>9</td>\n",
       "      <td>9</td>\n",
       "      <td>0</td>\n",
       "      <td>1</td>\n",
       "      <td>0</td>\n",
       "      <td>1</td>\n",
       "      <td>0</td>\n",
       "      <td>1</td>\n",
       "    </tr>\n",
       "    <tr>\n",
       "      <th>391</th>\n",
       "      <td>1</td>\n",
       "      <td>services</td>\n",
       "      <td>services</td>\n",
       "      <td>0</td>\n",
       "      <td>0</td>\n",
       "      <td>14</td>\n",
       "      <td>16</td>\n",
       "      <td>16</td>\n",
       "      <td>0</td>\n",
       "      <td>1</td>\n",
       "      <td>0</td>\n",
       "      <td>1</td>\n",
       "      <td>0</td>\n",
       "      <td>1</td>\n",
       "    </tr>\n",
       "    <tr>\n",
       "      <th>392</th>\n",
       "      <td>1</td>\n",
       "      <td>other</td>\n",
       "      <td>other</td>\n",
       "      <td>3</td>\n",
       "      <td>0</td>\n",
       "      <td>10</td>\n",
       "      <td>8</td>\n",
       "      <td>7</td>\n",
       "      <td>0</td>\n",
       "      <td>1</td>\n",
       "      <td>0</td>\n",
       "      <td>1</td>\n",
       "      <td>1</td>\n",
       "      <td>0</td>\n",
       "    </tr>\n",
       "    <tr>\n",
       "      <th>393</th>\n",
       "      <td>1</td>\n",
       "      <td>services</td>\n",
       "      <td>other</td>\n",
       "      <td>0</td>\n",
       "      <td>0</td>\n",
       "      <td>11</td>\n",
       "      <td>12</td>\n",
       "      <td>10</td>\n",
       "      <td>0</td>\n",
       "      <td>1</td>\n",
       "      <td>0</td>\n",
       "      <td>1</td>\n",
       "      <td>0</td>\n",
       "      <td>1</td>\n",
       "    </tr>\n",
       "    <tr>\n",
       "      <th>394</th>\n",
       "      <td>1</td>\n",
       "      <td>other</td>\n",
       "      <td>at_home</td>\n",
       "      <td>0</td>\n",
       "      <td>0</td>\n",
       "      <td>8</td>\n",
       "      <td>9</td>\n",
       "      <td>9</td>\n",
       "      <td>0</td>\n",
       "      <td>1</td>\n",
       "      <td>0</td>\n",
       "      <td>1</td>\n",
       "      <td>0</td>\n",
       "      <td>1</td>\n",
       "    </tr>\n",
       "  </tbody>\n",
       "</table>\n",
       "<p>395 rows × 14 columns</p>\n",
       "</div>"
      ],
      "text/plain": [
       "     Pstatus      Mjob      Fjob  failures  paid  G1  G2  G3  school_GP  \\\n",
       "0          0   at_home   teacher         0     0   5   6   6          1   \n",
       "1          1   at_home     other         0     0   5   5   6          1   \n",
       "2          1   at_home     other         3     1   7   8  10          1   \n",
       "3          1    health  services         0     1  15  14  15          1   \n",
       "4          1     other     other         0     1   6  10  10          1   \n",
       "..       ...       ...       ...       ...   ...  ..  ..  ..        ...   \n",
       "390        0  services  services         2     1   9   9   9          0   \n",
       "391        1  services  services         0     0  14  16  16          0   \n",
       "392        1     other     other         3     0  10   8   7          0   \n",
       "393        1  services     other         0     0  11  12  10          0   \n",
       "394        1     other   at_home         0     0   8   9   9          0   \n",
       "\n",
       "     school_MS  sex_0  sex_1  famsize_GT3  famsize_LE3  \n",
       "0            0      1      0            1            0  \n",
       "1            0      1      0            1            0  \n",
       "2            0      1      0            0            1  \n",
       "3            0      1      0            1            0  \n",
       "4            0      1      0            1            0  \n",
       "..         ...    ...    ...          ...          ...  \n",
       "390          1      0      1            0            1  \n",
       "391          1      0      1            0            1  \n",
       "392          1      0      1            1            0  \n",
       "393          1      0      1            0            1  \n",
       "394          1      0      1            0            1  \n",
       "\n",
       "[395 rows x 14 columns]"
      ]
     },
     "execution_count": 33,
     "metadata": {},
     "output_type": "execute_result"
    }
   ],
   "source": [
    "#Alternative way using one hot encoding\n",
    "encoded_df = pd.get_dummies(data = df, columns = ['school', 'sex', 'famsize'])\n",
    "encoded_df"
   ]
  },
  {
   "cell_type": "markdown",
   "id": "fd2e1cec",
   "metadata": {},
   "source": [
    "## Centering Predictors"
   ]
  },
  {
   "cell_type": "markdown",
   "id": "bf61db06",
   "metadata": {},
   "source": [
    "Centering dilakukan agar interpretasi hasil regresi lebih baik."
   ]
  },
  {
   "cell_type": "code",
   "execution_count": 34,
   "id": "22a8eb20",
   "metadata": {},
   "outputs": [
    {
     "data": {
      "text/plain": [
       "11.0"
      ]
     },
     "execution_count": 34,
     "metadata": {},
     "output_type": "execute_result"
    }
   ],
   "source": [
    "mean_G1= encoded_df[\"G1\"].mean()\n",
    "mean_G1 = np.round(mean_G1,0)\n",
    "\n",
    "mean_G1"
   ]
  },
  {
   "cell_type": "code",
   "execution_count": 35,
   "id": "27a3b746",
   "metadata": {},
   "outputs": [
    {
     "data": {
      "text/plain": [
       "11.0"
      ]
     },
     "execution_count": 35,
     "metadata": {},
     "output_type": "execute_result"
    }
   ],
   "source": [
    "mean_G2= encoded_df[\"G2\"].mean()\n",
    "mean_G2 = np.round(mean_G2,0)\n",
    "\n",
    "mean_G2"
   ]
  },
  {
   "cell_type": "code",
   "execution_count": 36,
   "id": "c80aff97",
   "metadata": {},
   "outputs": [
    {
     "data": {
      "text/html": [
       "<div>\n",
       "<style scoped>\n",
       "    .dataframe tbody tr th:only-of-type {\n",
       "        vertical-align: middle;\n",
       "    }\n",
       "\n",
       "    .dataframe tbody tr th {\n",
       "        vertical-align: top;\n",
       "    }\n",
       "\n",
       "    .dataframe thead th {\n",
       "        text-align: right;\n",
       "    }\n",
       "</style>\n",
       "<table border=\"1\" class=\"dataframe\">\n",
       "  <thead>\n",
       "    <tr style=\"text-align: right;\">\n",
       "      <th></th>\n",
       "      <th>Pstatus</th>\n",
       "      <th>Mjob</th>\n",
       "      <th>Fjob</th>\n",
       "      <th>failures</th>\n",
       "      <th>paid</th>\n",
       "      <th>G1Centered</th>\n",
       "      <th>G2</th>\n",
       "      <th>G3</th>\n",
       "      <th>school_GP</th>\n",
       "      <th>school_MS</th>\n",
       "      <th>sex_0</th>\n",
       "      <th>sex_1</th>\n",
       "      <th>famsize_GT3</th>\n",
       "      <th>famsize_LE3</th>\n",
       "    </tr>\n",
       "  </thead>\n",
       "  <tbody>\n",
       "    <tr>\n",
       "      <th>0</th>\n",
       "      <td>0</td>\n",
       "      <td>at_home</td>\n",
       "      <td>teacher</td>\n",
       "      <td>0</td>\n",
       "      <td>0</td>\n",
       "      <td>-6.0</td>\n",
       "      <td>6</td>\n",
       "      <td>6</td>\n",
       "      <td>1</td>\n",
       "      <td>0</td>\n",
       "      <td>1</td>\n",
       "      <td>0</td>\n",
       "      <td>1</td>\n",
       "      <td>0</td>\n",
       "    </tr>\n",
       "    <tr>\n",
       "      <th>1</th>\n",
       "      <td>1</td>\n",
       "      <td>at_home</td>\n",
       "      <td>other</td>\n",
       "      <td>0</td>\n",
       "      <td>0</td>\n",
       "      <td>-6.0</td>\n",
       "      <td>5</td>\n",
       "      <td>6</td>\n",
       "      <td>1</td>\n",
       "      <td>0</td>\n",
       "      <td>1</td>\n",
       "      <td>0</td>\n",
       "      <td>1</td>\n",
       "      <td>0</td>\n",
       "    </tr>\n",
       "    <tr>\n",
       "      <th>2</th>\n",
       "      <td>1</td>\n",
       "      <td>at_home</td>\n",
       "      <td>other</td>\n",
       "      <td>3</td>\n",
       "      <td>1</td>\n",
       "      <td>-4.0</td>\n",
       "      <td>8</td>\n",
       "      <td>10</td>\n",
       "      <td>1</td>\n",
       "      <td>0</td>\n",
       "      <td>1</td>\n",
       "      <td>0</td>\n",
       "      <td>0</td>\n",
       "      <td>1</td>\n",
       "    </tr>\n",
       "    <tr>\n",
       "      <th>3</th>\n",
       "      <td>1</td>\n",
       "      <td>health</td>\n",
       "      <td>services</td>\n",
       "      <td>0</td>\n",
       "      <td>1</td>\n",
       "      <td>4.0</td>\n",
       "      <td>14</td>\n",
       "      <td>15</td>\n",
       "      <td>1</td>\n",
       "      <td>0</td>\n",
       "      <td>1</td>\n",
       "      <td>0</td>\n",
       "      <td>1</td>\n",
       "      <td>0</td>\n",
       "    </tr>\n",
       "    <tr>\n",
       "      <th>4</th>\n",
       "      <td>1</td>\n",
       "      <td>other</td>\n",
       "      <td>other</td>\n",
       "      <td>0</td>\n",
       "      <td>1</td>\n",
       "      <td>-5.0</td>\n",
       "      <td>10</td>\n",
       "      <td>10</td>\n",
       "      <td>1</td>\n",
       "      <td>0</td>\n",
       "      <td>1</td>\n",
       "      <td>0</td>\n",
       "      <td>1</td>\n",
       "      <td>0</td>\n",
       "    </tr>\n",
       "  </tbody>\n",
       "</table>\n",
       "</div>"
      ],
      "text/plain": [
       "   Pstatus     Mjob      Fjob  failures  paid  G1Centered  G2  G3  school_GP  \\\n",
       "0        0  at_home   teacher         0     0        -6.0   6   6          1   \n",
       "1        1  at_home     other         0     0        -6.0   5   6          1   \n",
       "2        1  at_home     other         3     1        -4.0   8  10          1   \n",
       "3        1   health  services         0     1         4.0  14  15          1   \n",
       "4        1    other     other         0     1        -5.0  10  10          1   \n",
       "\n",
       "   school_MS  sex_0  sex_1  famsize_GT3  famsize_LE3  \n",
       "0          0      1      0            1            0  \n",
       "1          0      1      0            1            0  \n",
       "2          0      1      0            0            1  \n",
       "3          0      1      0            1            0  \n",
       "4          0      1      0            1            0  "
      ]
     },
     "execution_count": 36,
     "metadata": {},
     "output_type": "execute_result"
    }
   ],
   "source": [
    "encoded_df[\"G1\"] = encoded_df[\"G1\"]-mean_G1\n",
    "encoded_df.rename(columns = {\"G1\":\"G1Centered\"}, inplace=True)\n",
    "encoded_df.head()"
   ]
  },
  {
   "cell_type": "code",
   "execution_count": 37,
   "id": "c4d71baa",
   "metadata": {},
   "outputs": [
    {
     "data": {
      "text/html": [
       "<div>\n",
       "<style scoped>\n",
       "    .dataframe tbody tr th:only-of-type {\n",
       "        vertical-align: middle;\n",
       "    }\n",
       "\n",
       "    .dataframe tbody tr th {\n",
       "        vertical-align: top;\n",
       "    }\n",
       "\n",
       "    .dataframe thead th {\n",
       "        text-align: right;\n",
       "    }\n",
       "</style>\n",
       "<table border=\"1\" class=\"dataframe\">\n",
       "  <thead>\n",
       "    <tr style=\"text-align: right;\">\n",
       "      <th></th>\n",
       "      <th>Pstatus</th>\n",
       "      <th>Mjob</th>\n",
       "      <th>Fjob</th>\n",
       "      <th>failures</th>\n",
       "      <th>paid</th>\n",
       "      <th>G1Centered</th>\n",
       "      <th>G2Centered</th>\n",
       "      <th>G3</th>\n",
       "      <th>school_GP</th>\n",
       "      <th>school_MS</th>\n",
       "      <th>sex_0</th>\n",
       "      <th>sex_1</th>\n",
       "      <th>famsize_GT3</th>\n",
       "      <th>famsize_LE3</th>\n",
       "    </tr>\n",
       "  </thead>\n",
       "  <tbody>\n",
       "    <tr>\n",
       "      <th>0</th>\n",
       "      <td>0</td>\n",
       "      <td>at_home</td>\n",
       "      <td>teacher</td>\n",
       "      <td>0</td>\n",
       "      <td>0</td>\n",
       "      <td>-6.0</td>\n",
       "      <td>-5.0</td>\n",
       "      <td>6</td>\n",
       "      <td>1</td>\n",
       "      <td>0</td>\n",
       "      <td>1</td>\n",
       "      <td>0</td>\n",
       "      <td>1</td>\n",
       "      <td>0</td>\n",
       "    </tr>\n",
       "    <tr>\n",
       "      <th>1</th>\n",
       "      <td>1</td>\n",
       "      <td>at_home</td>\n",
       "      <td>other</td>\n",
       "      <td>0</td>\n",
       "      <td>0</td>\n",
       "      <td>-6.0</td>\n",
       "      <td>-6.0</td>\n",
       "      <td>6</td>\n",
       "      <td>1</td>\n",
       "      <td>0</td>\n",
       "      <td>1</td>\n",
       "      <td>0</td>\n",
       "      <td>1</td>\n",
       "      <td>0</td>\n",
       "    </tr>\n",
       "    <tr>\n",
       "      <th>2</th>\n",
       "      <td>1</td>\n",
       "      <td>at_home</td>\n",
       "      <td>other</td>\n",
       "      <td>3</td>\n",
       "      <td>1</td>\n",
       "      <td>-4.0</td>\n",
       "      <td>-3.0</td>\n",
       "      <td>10</td>\n",
       "      <td>1</td>\n",
       "      <td>0</td>\n",
       "      <td>1</td>\n",
       "      <td>0</td>\n",
       "      <td>0</td>\n",
       "      <td>1</td>\n",
       "    </tr>\n",
       "    <tr>\n",
       "      <th>3</th>\n",
       "      <td>1</td>\n",
       "      <td>health</td>\n",
       "      <td>services</td>\n",
       "      <td>0</td>\n",
       "      <td>1</td>\n",
       "      <td>4.0</td>\n",
       "      <td>3.0</td>\n",
       "      <td>15</td>\n",
       "      <td>1</td>\n",
       "      <td>0</td>\n",
       "      <td>1</td>\n",
       "      <td>0</td>\n",
       "      <td>1</td>\n",
       "      <td>0</td>\n",
       "    </tr>\n",
       "    <tr>\n",
       "      <th>4</th>\n",
       "      <td>1</td>\n",
       "      <td>other</td>\n",
       "      <td>other</td>\n",
       "      <td>0</td>\n",
       "      <td>1</td>\n",
       "      <td>-5.0</td>\n",
       "      <td>-1.0</td>\n",
       "      <td>10</td>\n",
       "      <td>1</td>\n",
       "      <td>0</td>\n",
       "      <td>1</td>\n",
       "      <td>0</td>\n",
       "      <td>1</td>\n",
       "      <td>0</td>\n",
       "    </tr>\n",
       "  </tbody>\n",
       "</table>\n",
       "</div>"
      ],
      "text/plain": [
       "   Pstatus     Mjob      Fjob  failures  paid  G1Centered  G2Centered  G3  \\\n",
       "0        0  at_home   teacher         0     0        -6.0        -5.0   6   \n",
       "1        1  at_home     other         0     0        -6.0        -6.0   6   \n",
       "2        1  at_home     other         3     1        -4.0        -3.0  10   \n",
       "3        1   health  services         0     1         4.0         3.0  15   \n",
       "4        1    other     other         0     1        -5.0        -1.0  10   \n",
       "\n",
       "   school_GP  school_MS  sex_0  sex_1  famsize_GT3  famsize_LE3  \n",
       "0          1          0      1      0            1            0  \n",
       "1          1          0      1      0            1            0  \n",
       "2          1          0      1      0            0            1  \n",
       "3          1          0      1      0            1            0  \n",
       "4          1          0      1      0            1            0  "
      ]
     },
     "execution_count": 37,
     "metadata": {},
     "output_type": "execute_result"
    }
   ],
   "source": [
    "encoded_df[\"G2\"] = encoded_df[\"G2\"]-mean_G2\n",
    "encoded_df.rename(columns = {\"G2\":\"G2Centered\"}, inplace=True)\n",
    "encoded_df.head()"
   ]
  },
  {
   "cell_type": "code",
   "execution_count": 38,
   "id": "f92eeebe",
   "metadata": {},
   "outputs": [
    {
     "data": {
      "text/html": [
       "<div>\n",
       "<style scoped>\n",
       "    .dataframe tbody tr th:only-of-type {\n",
       "        vertical-align: middle;\n",
       "    }\n",
       "\n",
       "    .dataframe tbody tr th {\n",
       "        vertical-align: top;\n",
       "    }\n",
       "\n",
       "    .dataframe thead th {\n",
       "        text-align: right;\n",
       "    }\n",
       "</style>\n",
       "<table border=\"1\" class=\"dataframe\">\n",
       "  <thead>\n",
       "    <tr style=\"text-align: right;\">\n",
       "      <th></th>\n",
       "      <th>test_rsquared</th>\n",
       "      <th>folds</th>\n",
       "    </tr>\n",
       "  </thead>\n",
       "  <tbody>\n",
       "    <tr>\n",
       "      <th>0</th>\n",
       "      <td>0.836166</td>\n",
       "      <td>Folds 1</td>\n",
       "    </tr>\n",
       "    <tr>\n",
       "      <th>1</th>\n",
       "      <td>0.784702</td>\n",
       "      <td>Folds 2</td>\n",
       "    </tr>\n",
       "    <tr>\n",
       "      <th>2</th>\n",
       "      <td>0.829680</td>\n",
       "      <td>Folds 3</td>\n",
       "    </tr>\n",
       "    <tr>\n",
       "      <th>3</th>\n",
       "      <td>0.788347</td>\n",
       "      <td>Folds 4</td>\n",
       "    </tr>\n",
       "    <tr>\n",
       "      <th>4</th>\n",
       "      <td>0.806959</td>\n",
       "      <td>Folds 5</td>\n",
       "    </tr>\n",
       "  </tbody>\n",
       "</table>\n",
       "</div>"
      ],
      "text/plain": [
       "   test_rsquared    folds\n",
       "0       0.836166  Folds 1\n",
       "1       0.784702  Folds 2\n",
       "2       0.829680  Folds 3\n",
       "3       0.788347  Folds 4\n",
       "4       0.806959  Folds 5"
      ]
     },
     "execution_count": 38,
     "metadata": {},
     "output_type": "execute_result"
    }
   ],
   "source": [
    "# Create a class model\n",
    "ols_all_pred = StatsmodelsRegressor(smf.ols, \"G3 ~ Pstatus + Mjob + Fjob + failures + paid + G1Centered + G2Centered + school_GP + school_MS + sex_0 + sex_1 + famsize_GT3 + famsize_LE3\")\n",
    "\n",
    "# Create k-fold splitter object\n",
    "kfold = KFold(n_splits=5, shuffle = True, random_state=123)\n",
    "\n",
    "scores_ols_all_pred = cross_val_score(estimator = ols_all_pred,\n",
    "                                       X = encoded_df,\n",
    "                                       y = encoded_df[\"G3\"],\n",
    "                                       cv = kfold,\n",
    "                                       scoring = \"r2\")\n",
    "scores_ols_all_pred = pd.DataFrame(data = scores_ols_all_pred, \n",
    "                                    columns=[\"test_rsquared\"])\n",
    "scores_ols_all_pred[\"folds\"] = [f\"Folds {i+1}\" for i in range(5)]\n",
    "scores_ols_all_pred"
   ]
  },
  {
   "cell_type": "code",
   "execution_count": 39,
   "id": "97614934",
   "metadata": {},
   "outputs": [
    {
     "data": {
      "text/plain": [
       "0.8091705624975265"
      ]
     },
     "execution_count": 39,
     "metadata": {},
     "output_type": "execute_result"
    }
   ],
   "source": [
    "scores_ols_all_pred[\"test_rsquared\"].mean()"
   ]
  },
  {
   "cell_type": "markdown",
   "id": "38e6e7c5",
   "metadata": {},
   "source": [
    "The model use all media have good fit, it can explain 80.92% variance of salary. Let's build the model using whole data to infer the estimated coefficient from the model, and gain the insight from business prespective"
   ]
  },
  {
   "cell_type": "code",
   "execution_count": 40,
   "id": "68bae163",
   "metadata": {},
   "outputs": [
    {
     "data": {
      "text/html": [
       "<div>\n",
       "<style scoped>\n",
       "    .dataframe tbody tr th:only-of-type {\n",
       "        vertical-align: middle;\n",
       "    }\n",
       "\n",
       "    .dataframe tbody tr th {\n",
       "        vertical-align: top;\n",
       "    }\n",
       "\n",
       "    .dataframe thead th {\n",
       "        text-align: right;\n",
       "    }\n",
       "</style>\n",
       "<table border=\"1\" class=\"dataframe\">\n",
       "  <thead>\n",
       "    <tr style=\"text-align: right;\">\n",
       "      <th></th>\n",
       "      <th>coef</th>\n",
       "      <th>std err</th>\n",
       "    </tr>\n",
       "  </thead>\n",
       "  <tbody>\n",
       "    <tr>\n",
       "      <th>Intercept</th>\n",
       "      <td>4.291079</td>\n",
       "      <td>0.232397</td>\n",
       "    </tr>\n",
       "    <tr>\n",
       "      <th>Mjob[T.health]</th>\n",
       "      <td>-0.036540</td>\n",
       "      <td>0.437405</td>\n",
       "    </tr>\n",
       "    <tr>\n",
       "      <th>Mjob[T.other]</th>\n",
       "      <td>0.100525</td>\n",
       "      <td>0.310963</td>\n",
       "    </tr>\n",
       "    <tr>\n",
       "      <th>Mjob[T.services]</th>\n",
       "      <td>0.229394</td>\n",
       "      <td>0.329910</td>\n",
       "    </tr>\n",
       "    <tr>\n",
       "      <th>Mjob[T.teacher]</th>\n",
       "      <td>0.061675</td>\n",
       "      <td>0.387656</td>\n",
       "    </tr>\n",
       "    <tr>\n",
       "      <th>Fjob[T.health]</th>\n",
       "      <td>0.735147</td>\n",
       "      <td>0.651993</td>\n",
       "    </tr>\n",
       "    <tr>\n",
       "      <th>Fjob[T.other]</th>\n",
       "      <td>0.360474</td>\n",
       "      <td>0.467221</td>\n",
       "    </tr>\n",
       "    <tr>\n",
       "      <th>Fjob[T.services]</th>\n",
       "      <td>-0.019338</td>\n",
       "      <td>0.484948</td>\n",
       "    </tr>\n",
       "    <tr>\n",
       "      <th>Fjob[T.teacher]</th>\n",
       "      <td>0.172361</td>\n",
       "      <td>0.583511</td>\n",
       "    </tr>\n",
       "    <tr>\n",
       "      <th>Pstatus</th>\n",
       "      <td>-0.304496</td>\n",
       "      <td>0.330166</td>\n",
       "    </tr>\n",
       "    <tr>\n",
       "      <th>failures</th>\n",
       "      <td>-0.229118</td>\n",
       "      <td>0.147894</td>\n",
       "    </tr>\n",
       "    <tr>\n",
       "      <th>paid</th>\n",
       "      <td>0.086480</td>\n",
       "      <td>0.208607</td>\n",
       "    </tr>\n",
       "    <tr>\n",
       "      <th>G1Centered</th>\n",
       "      <td>0.149215</td>\n",
       "      <td>0.059245</td>\n",
       "    </tr>\n",
       "    <tr>\n",
       "      <th>G2Centered</th>\n",
       "      <td>0.970103</td>\n",
       "      <td>0.051746</td>\n",
       "    </tr>\n",
       "    <tr>\n",
       "      <th>school_GP</th>\n",
       "      <td>2.090087</td>\n",
       "      <td>0.178036</td>\n",
       "    </tr>\n",
       "    <tr>\n",
       "      <th>school_MS</th>\n",
       "      <td>2.200992</td>\n",
       "      <td>0.210101</td>\n",
       "    </tr>\n",
       "    <tr>\n",
       "      <th>sex_0</th>\n",
       "      <td>2.037132</td>\n",
       "      <td>0.145164</td>\n",
       "    </tr>\n",
       "    <tr>\n",
       "      <th>sex_1</th>\n",
       "      <td>2.253947</td>\n",
       "      <td>0.165415</td>\n",
       "    </tr>\n",
       "    <tr>\n",
       "      <th>famsize_GT3</th>\n",
       "      <td>2.136977</td>\n",
       "      <td>0.165278</td>\n",
       "    </tr>\n",
       "    <tr>\n",
       "      <th>famsize_LE3</th>\n",
       "      <td>2.154103</td>\n",
       "      <td>0.157000</td>\n",
       "    </tr>\n",
       "  </tbody>\n",
       "</table>\n",
       "</div>"
      ],
      "text/plain": [
       "                      coef   std err\n",
       "Intercept         4.291079  0.232397\n",
       "Mjob[T.health]   -0.036540  0.437405\n",
       "Mjob[T.other]     0.100525  0.310963\n",
       "Mjob[T.services]  0.229394  0.329910\n",
       "Mjob[T.teacher]   0.061675  0.387656\n",
       "Fjob[T.health]    0.735147  0.651993\n",
       "Fjob[T.other]     0.360474  0.467221\n",
       "Fjob[T.services] -0.019338  0.484948\n",
       "Fjob[T.teacher]   0.172361  0.583511\n",
       "Pstatus          -0.304496  0.330166\n",
       "failures         -0.229118  0.147894\n",
       "paid              0.086480  0.208607\n",
       "G1Centered        0.149215  0.059245\n",
       "G2Centered        0.970103  0.051746\n",
       "school_GP         2.090087  0.178036\n",
       "school_MS         2.200992  0.210101\n",
       "sex_0             2.037132  0.145164\n",
       "sex_1             2.253947  0.165415\n",
       "famsize_GT3       2.136977  0.165278\n",
       "famsize_LE3       2.154103  0.157000"
      ]
     },
     "execution_count": 40,
     "metadata": {},
     "output_type": "execute_result"
    }
   ],
   "source": [
    "# Create OLS model object\n",
    "model = smf.ols(\"G3 ~ Pstatus + Mjob + Fjob + failures + paid + G1Centered + G2Centered + school_GP + school_MS + sex_0 + sex_1 + famsize_GT3 + famsize_LE3\", encoded_df)\n",
    "\n",
    "# Fit the model\n",
    "results_model_G3 = model.fit()\n",
    "\n",
    "# Extract the results (Coefficient and Standard Error) to DataFrame\n",
    "results_G3 = print_coef_std_err(results_model_G3)\n",
    "results_G3"
   ]
  },
  {
   "cell_type": "markdown",
   "id": "20065e57",
   "metadata": {},
   "source": [
    "### G3 = 4.29 - 0.04 x Mjob(health) + 0.1 x Mjob(other) + 0.23 x Mjob(services) + 0.06 Mjob(teacher) + 0.74 Fjob(health) + 0.36 x Fjob(other) - 0.02 x Fjob(services) + 0.12 x Fjob(teacher) - 0.3 x Pstatus - 0.23 x failures + 0.09 x paid + 0.15 x (G1 - 11) + 0.98 x (G2 - 11) + 2.1 x school_GP + 2.2 x school_MS + 2.04 x sex_0 + 2.25 x sex_1 + 2.14 x famsize_GT3 + 2.15 x famsize_LE3"
   ]
  },
  {
   "cell_type": "markdown",
   "id": "61a1973a",
   "metadata": {},
   "source": [
    "#### Interpretasi Jenis Pekerjaan Ibu\n",
    "\n",
    "Jika membandingkan dua orang dengan jenis pekerjaan ayah, status orang tua, pernah gagal atau tidak, mengikuti les diluar kelas atau tidak, nilai G1, nilai G2, jenis kelamin, sekolah, dan jumlah anggota keluarga yang sama, nilai siswa di kelas 3 dengan jenis pekerjaan ibu-nya adalah dibidang kesehatan diperkirakan lebih rendah 0.04 poin. Jika pekerjaan ibu dari siswa tersebut dibidang lainnya diperkirakan lebih tinggi 0.1 poin, jika dibidang services maka diperkirakan lebih tinggi 0.23 poin, dan jika sebagai guru maka diperkirakan lebih tinggi 0.06 poin."
   ]
  },
  {
   "cell_type": "markdown",
   "id": "feac1ade",
   "metadata": {},
   "source": [
    "#### Interpretasi Jenis Pekerjaan Ayah\n",
    "\n",
    "Jika membandingkan dua orang dengan jenis pekerjaan ibu, status orang tua, pernah gagal atau tidak, mengikuti les diluar kelas atau tidak, nilai G1, nilai G2, jenis kelamin, sekolah, dan jumlah anggota keluarga yang sama, nilai siswa di kelas 3 dengan jenis pekerjaan ayah-nya adalah dibidang kesehatan diperkirakan lebih tinggi 0.74 poin. Jika pekerjaan ayah dari siswa tersebut dibidang lainnya diperkirakan lebih tinggi 0.36 poin, jika dibidang services maka diperkirakan lebih tinggi 0.02 poin, dan jika sebagai guru maka diperkirakan lebih tinggi 0.12 poin."
   ]
  },
  {
   "cell_type": "markdown",
   "id": "a2716618",
   "metadata": {},
   "source": [
    "#### Interpretasi Status Orang Tua\n",
    "\n",
    "Jika membandingkan dua orang dengan jenis pekerjaan ibu, jenis pekerjaan ayah, pernah gagal atau tidak, mengikuti les diluar kelas atau tidak, nilai G1, nilai G2, jenis kelamin, sekolah, dan jumlah anggota keluarga yang sama, selisih nilai siswa di kelas 3 dengan status orang tua-nya sudah berpisah dibandingkan jika orang tua dari siswa tersebut masih bersama adalah sebesar 0.3."
   ]
  },
  {
   "cell_type": "markdown",
   "id": "7e2143fe",
   "metadata": {},
   "source": [
    "#### Interpretasi Pernah Gagal di Kelas Sebelumnya\n",
    "\n",
    "Jika membandingkan dua orang dengan jenis pekerjaan ibu, jenis pekerjaan ayah, status orang tua, mengikuti les diluar kelas atau tidak, nilai G1, nilai G2, jenis kelamin, sekolah, dan jumlah anggota keluarga yang sama, selisih nilai siswa di kelas 3 jika siswa tersebut di kelas sebelumnya pernah gagal atau tidak adalah sebesar 0.23."
   ]
  },
  {
   "cell_type": "markdown",
   "id": "1385a4e1",
   "metadata": {},
   "source": [
    "#### Interpretasi Mengikuti Kegiatan Les di luar Kelas\n",
    "\n",
    "Jika membandingkan dua orang dengan jenis pekerjaan ibu, jenis pekerjaan ayah, status orang tua, pernah gagal atau tidak, nilai G1, nilai G2 yang sama, jenis kelamin, sekolah, dan jumlah anggota keluarga, selisih nilai siswa di kelas 3 jika siswa tersebut mengikuti les diluar kelas atau tidak adalah sebesar 0.09."
   ]
  },
  {
   "cell_type": "markdown",
   "id": "102851c3",
   "metadata": {},
   "source": [
    "#### Interpretasi Nilai G1\n",
    "\n",
    "Jika membandingkan dua orang dengan jenis pekerjaan ibu, jenis pekerjaan ayah, status orang tua, pernah gagal atau tidak, mengikuti les diluar kelas atau tidak, nilai G2, jenis kelamin, sekolah, dan jumlah anggota keluarga yang sama, seseorang dengan nilai saat kelas 1 lebih tinggi 1 poin dari 11 diperkirakan di kelas 3 akan mendapat nilai lebih tinggi 0.15 poin dibandingkan dengan siswa dengan nilai 11."
   ]
  },
  {
   "cell_type": "markdown",
   "id": "9d608e4a",
   "metadata": {},
   "source": [
    "#### Interpretasi Nilai G2\n",
    "\n",
    "Jika membandingkan dua orang dengan jenis pekerjaan ibu, jenis pekerjaan ayah, status orang tua, pernah gagal atau tidak, mengikuti les diluar kelas atau tidak, nilai G1, jenis kelamin, sekolah, dan jumlah anggota keluarga yang sama, seseorang dengan nilai saat kelas 2 lebih tinggi 1 poin dari 11 diperkirakan di kelas 3 akan mendapat nilai lebih tinggi 0.98 poin dibandingkan dengan siswa dengan nilai 11."
   ]
  },
  {
   "cell_type": "markdown",
   "id": "40bf2dea",
   "metadata": {},
   "source": [
    "#### Interpretasi Sekolah\n",
    "\n",
    "Jika membandingkan dua orang dengan jenis pekerjaan ayah, status orang tua, pernah gagal atau tidak, mengikuti les diluar kelas atau tidak, nilai G1, nilai G2, jenis kelamin, dan jumlah anggota keluarga yang sama, nilai siswa di kelas 3 jika siswa tersebut bersekolah di Gabriel Pereira diperkirakan akan mendapat nilai lebih tinggi 2.1 poin. Jika siswa tersebut bersekolah di Mousinho da Silveira diperkirakan akan mendapat nilai lebih tinggi 2.2 poin."
   ]
  },
  {
   "cell_type": "markdown",
   "id": "f1068da3",
   "metadata": {},
   "source": [
    "#### Interpretasi Jenis Kelamin\n",
    "\n",
    "Jika membandingkan dua orang dengan jenis pekerjaan ayah, status orang tua, pernah gagal atau tidak, mengikuti les diluar kelas atau tidak, nilai G1, nilai G2, dan jumlah anggota keluarga yang sama, nilai siswa di kelas 3 dengan jenis kelamin perempuan diperkirakan lebih tinggi sebesar 2.04 poin. Jika jenis kelamin siswa tersebut adalah laki-laki maka diperkirakan lebih tinggi sebesar 2.25 poin"
   ]
  },
  {
   "cell_type": "markdown",
   "id": "4938102a",
   "metadata": {},
   "source": [
    "#### Interpretasi Jumlah Anggota Keluarga\n",
    "\n",
    "Jika membandingkan dua orang dengan jenis pekerjaan ayah, status orang tua, pernah gagal atau tidak, mengikuti les diluar kelas atau tidak, nilai G1, nilai G2, dan jenis kelamin yang sama, nilai siswa di kelas 3 dengan jumlah anggota keluarga lebih dari 3 diperkirakan lebih tinggi sebesar 2.14 poin. Jika jumlah anggota keluarga kurang dari 3 maka diperkirakan lebih tinggi sebesar 2.25 poin"
   ]
  },
  {
   "cell_type": "markdown",
   "id": "cb6beb24",
   "metadata": {},
   "source": [
    "## Linear Regression with 2 Predictors"
   ]
  },
  {
   "cell_type": "code",
   "execution_count": 41,
   "id": "b3e4de30",
   "metadata": {},
   "outputs": [
    {
     "data": {
      "text/html": [
       "<div>\n",
       "<style scoped>\n",
       "    .dataframe tbody tr th:only-of-type {\n",
       "        vertical-align: middle;\n",
       "    }\n",
       "\n",
       "    .dataframe tbody tr th {\n",
       "        vertical-align: top;\n",
       "    }\n",
       "\n",
       "    .dataframe thead th {\n",
       "        text-align: right;\n",
       "    }\n",
       "</style>\n",
       "<table border=\"1\" class=\"dataframe\">\n",
       "  <thead>\n",
       "    <tr style=\"text-align: right;\">\n",
       "      <th></th>\n",
       "      <th>coef</th>\n",
       "      <th>std err</th>\n",
       "    </tr>\n",
       "  </thead>\n",
       "  <tbody>\n",
       "    <tr>\n",
       "      <th>Intercept</th>\n",
       "      <td>10.217802</td>\n",
       "      <td>0.186657</td>\n",
       "    </tr>\n",
       "    <tr>\n",
       "      <th>G1Centered</th>\n",
       "      <td>1.102438</td>\n",
       "      <td>0.041431</td>\n",
       "    </tr>\n",
       "    <tr>\n",
       "      <th>paid</th>\n",
       "      <td>0.650032</td>\n",
       "      <td>0.275652</td>\n",
       "    </tr>\n",
       "  </tbody>\n",
       "</table>\n",
       "</div>"
      ],
      "text/plain": [
       "                 coef   std err\n",
       "Intercept   10.217802  0.186657\n",
       "G1Centered   1.102438  0.041431\n",
       "paid         0.650032  0.275652"
      ]
     },
     "execution_count": 41,
     "metadata": {},
     "output_type": "execute_result"
    }
   ],
   "source": [
    "# Create OLS model object\n",
    "model = smf.ols('G3 ~ G1Centered + paid', encoded_df)\n",
    "\n",
    "# Fit the model\n",
    "results = model.fit()\n",
    "\n",
    "# Extract the results (Coefficient and Standard Error) to DataFrame\n",
    "results_G1_paid_G3 = print_coef_std_err(results)\n",
    "results_G1_paid_G3"
   ]
  },
  {
   "cell_type": "markdown",
   "id": "67218a16",
   "metadata": {},
   "source": [
    "### G3 = 10.22 + 1.10 x (G1 - 11) + 0.65 x paid"
   ]
  },
  {
   "cell_type": "markdown",
   "id": "6177f1fb",
   "metadata": {},
   "source": [
    "#### Interpretasi\n",
    "\n",
    "1. Nilai siswa kelas 3 jika tidak mengikuti les diluar kelas dan nilai di kelas 1 adalah 11 akan mengalami peningkatan sebesar 10.22 poin.\n",
    "2. Dilihat dari koefisien G1, jika kita mengcompare nilai G3 yang memiliki nilai G1 yang sama namun berbeda antara mengikut les di luar kelas atau tidak maka akan memiliki ekspetasi selisih nilai G3 sebesar 0.65.\n",
    "3. Berbeda jika dilihat dari koefisien paid, jika kita mengcompare nilai G3 jika siswa mengikuti les di luar kelas namun memiliki selisih nilai G1 sebanyak 1 poin dari 11 maka ekspetasi perbedaan nilai G3 para siswa sebesar 1.10."
   ]
  },
  {
   "cell_type": "code",
   "execution_count": 42,
   "id": "282215db",
   "metadata": {
    "scrolled": false
   },
   "outputs": [
    {
     "data": {
      "image/png": "[encoded data removed]",
      "text/plain": [
       "<Figure size 640x480 with 1 Axes>"
      ]
     },
     "metadata": {},
     "output_type": "display_data"
    }
   ],
   "source": [
    "predictors = [\"G1Centered\",\"paid\"]\n",
    "outcome = \"G3\"\n",
    "data = encoded_df.copy()\n",
    "results_ = results_G1_paid_G3.copy()\n",
    "linestyles = {0 : \"--\", 1: \"-\"}\n",
    "c = {0 : \"b\", 1: \"g\"}\n",
    "markers = {0 : \".\", 1: \"+\"}\n",
    "\n",
    "# Plot the data\n",
    "for i in range(2):\n",
    "    plt.scatter(data[data[predictors[1]]==i][predictors[0]], data[data[predictors[1]]==i][outcome], \n",
    "                color = c[i], \n",
    "                marker = markers[i])\n",
    "    \n",
    "x_domain = np.linspace(np.min(data[predictors[0]]), np.max(data[predictors[0]]), 100)\n",
    "\n",
    "\n",
    "# Calculate the fitted values for two lines regarding the mom_hs\n",
    "beta0_hat = results_.loc[\"Intercept\"][\"coef\"]\n",
    "beta1_hat = results_.loc[predictors[0]][\"coef\"]\n",
    "beta2_hat = results_.loc[predictors[1]][\"coef\"]\n",
    "\n",
    "fitted_values = [beta0_hat +  beta1_hat * x_domain  + beta2_hat * i for i in range(2)]\n",
    "\n",
    "\n",
    "# Plot two fitted line\n",
    "for i in range(2):\n",
    "    plt.plot(x_domain, fitted_values[i], c = c[i], label = f\"Fitted line (paid={i})\", linestyle = linestyles[i])\n",
    "\n",
    "# Add a legend and labels\n",
    "plt.legend()\n",
    "plt.ylabel(f\"{outcome}\")\n",
    "plt.xlabel(f\"{predictors[0]}\")\n",
    "\n",
    "# Add a title and adjust the margins\n",
    "plt.title(\"Data and fitted regression line\")\n",
    "\n",
    "# Show the plot\n",
    "plt.show()"
   ]
  },
  {
   "cell_type": "markdown",
   "id": "06eeb55c",
   "metadata": {},
   "source": [
    "## Evaluating Model without Interaction "
   ]
  },
  {
   "cell_type": "code",
   "execution_count": 43,
   "id": "4b8d2ac1",
   "metadata": {},
   "outputs": [
    {
     "data": {
      "text/plain": [
       "0.6473535005037385"
      ]
     },
     "execution_count": 43,
     "metadata": {},
     "output_type": "execute_result"
    }
   ],
   "source": [
    "results.rsquared"
   ]
  },
  {
   "cell_type": "markdown",
   "id": "261a4646",
   "metadata": {},
   "source": [
    "The R squared for the model without interaction is around 0.6474. It explained 64.74 of variance of G3"
   ]
  },
  {
   "cell_type": "code",
   "execution_count": 44,
   "id": "ef26dac4",
   "metadata": {},
   "outputs": [
    {
     "data": {
      "text/plain": [
       "Text(0.5, 1.0, 'Residuals vs. Predicted mpg')"
      ]
     },
     "execution_count": 44,
     "metadata": {},
     "output_type": "execute_result"
    },
    {
     "data": {
      "image/png": "[encoded data removed]",
      "text/plain": [
       "<Figure size 640x480 with 1 Axes>"
      ]
     },
     "metadata": {},
     "output_type": "display_data"
    }
   ],
   "source": [
    "# Residual Plot and Explained Variance\n",
    "plt.scatter(results.fittedvalues, results.resid, marker=\".\", c = \"k\")\n",
    "\n",
    "# Plot the horizontal line in 0 as the fitted line\n",
    "plt.axhline([0])\n",
    "\n",
    "plt.xlabel(\"predicted mpg\")\n",
    "plt.ylabel(\"residual\")\n",
    "plt.title(f\"Residuals vs. Predicted mpg\")"
   ]
  },
  {
   "cell_type": "markdown",
   "id": "d6112dba",
   "metadata": {},
   "source": [
    "## Regression With Interaction"
   ]
  },
  {
   "cell_type": "code",
   "execution_count": 45,
   "id": "c881a6b7",
   "metadata": {},
   "outputs": [
    {
     "data": {
      "text/html": [
       "<div>\n",
       "<style scoped>\n",
       "    .dataframe tbody tr th:only-of-type {\n",
       "        vertical-align: middle;\n",
       "    }\n",
       "\n",
       "    .dataframe tbody tr th {\n",
       "        vertical-align: top;\n",
       "    }\n",
       "\n",
       "    .dataframe thead th {\n",
       "        text-align: right;\n",
       "    }\n",
       "</style>\n",
       "<table border=\"1\" class=\"dataframe\">\n",
       "  <thead>\n",
       "    <tr style=\"text-align: right;\">\n",
       "      <th></th>\n",
       "      <th>coef</th>\n",
       "      <th>std err</th>\n",
       "    </tr>\n",
       "  </thead>\n",
       "  <tbody>\n",
       "    <tr>\n",
       "      <th>Intercept</th>\n",
       "      <td>10.227278</td>\n",
       "      <td>0.186541</td>\n",
       "    </tr>\n",
       "    <tr>\n",
       "      <th>G1Centered</th>\n",
       "      <td>1.147498</td>\n",
       "      <td>0.052256</td>\n",
       "    </tr>\n",
       "    <tr>\n",
       "      <th>paid</th>\n",
       "      <td>0.644323</td>\n",
       "      <td>0.275333</td>\n",
       "    </tr>\n",
       "    <tr>\n",
       "      <th>G1Centered:paid</th>\n",
       "      <td>-0.120809</td>\n",
       "      <td>0.085565</td>\n",
       "    </tr>\n",
       "  </tbody>\n",
       "</table>\n",
       "</div>"
      ],
      "text/plain": [
       "                      coef   std err\n",
       "Intercept        10.227278  0.186541\n",
       "G1Centered        1.147498  0.052256\n",
       "paid              0.644323  0.275333\n",
       "G1Centered:paid  -0.120809  0.085565"
      ]
     },
     "execution_count": 45,
     "metadata": {},
     "output_type": "execute_result"
    }
   ],
   "source": [
    "# Create OLS model object\n",
    "model = smf.ols('G3 ~ G1Centered + paid + G1Centered:paid', encoded_df)\n",
    "\n",
    "# Fit the model\n",
    "results_2 = model.fit()\n",
    "\n",
    "# Extract the results (Coefficient and Standard Error) to DataFrame\n",
    "results_G1_paid_inter_charges = print_coef_std_err(results_2)\n",
    "results_G1_paid_inter_charges"
   ]
  },
  {
   "cell_type": "markdown",
   "id": "c2cce672",
   "metadata": {},
   "source": [
    "### G3 = 10.23 + 1.15 (G1 - 11) + 0.64 paid - 0.12 (G1 - 11)xpaid"
   ]
  },
  {
   "cell_type": "markdown",
   "id": "e38d8f2a",
   "metadata": {},
   "source": [
    "#### Interpretasi\n",
    "\n",
    "1. Jika paid bernilai 0 (tidak mengikuti les diluar kelas), maka estimasi selisih antara nilai siswa yang tidak mengikuti les namun memiliki nilai lebih tinggi 1 poin dari 11 saat kelas 1 adalah sebesar 1.15. Dan estimasi rata-rata nilai siswa adalah 10.23.\n",
    "2. Jika paid bernilai 1(mengikuti les di luar kelas), maka estimasi selisih antara nilai siswa yang mengikuti les namun memiliki nilai lebih tinggi 1 poin dari 11 saat kelas 1 adalah 1.023. Dengan estimasi nilai rata-rata adalah 9.58."
   ]
  },
  {
   "cell_type": "code",
   "execution_count": 46,
   "id": "8af85283",
   "metadata": {},
   "outputs": [
    {
     "data": {
      "image/png": "[encoded data removed]",
      "text/plain": [
       "<Figure size 640x480 with 1 Axes>"
      ]
     },
     "metadata": {},
     "output_type": "display_data"
    }
   ],
   "source": [
    "predictors = [\"G1Centered\", \"paid\", \"G1Centered:paid\"]\n",
    "outcome = \"G3\"\n",
    "data = encoded_df.copy()\n",
    "results_ = results_G1_paid_inter_charges.copy()\n",
    "linestyles = {0 : \"--\", 1: \"-\"}\n",
    "c = {0 : \"b\", 1: \"g\"}\n",
    "markers = {0 : \".\", 1: \"x\"}\n",
    "\n",
    "# Plot the data\n",
    "for i in range(2):\n",
    "    plt.scatter(data[data[predictors[1]]==i][predictors[0]], data[data[predictors[1]]==i][outcome], \n",
    "                color = c[i], marker = markers[i])\n",
    "\n",
    "# Calculate the fitted values for two lines regarding the mom_hs\n",
    "beta0_hat = results_.loc[\"Intercept\"][\"coef\"]\n",
    "beta1_hat = results_.loc[predictors[0]][\"coef\"]\n",
    "beta2_hat = results_.loc[predictors[1]][\"coef\"]\n",
    "beta3_hat = results_.loc[predictors[2]][\"coef\"]\n",
    "\n",
    "fitted_values = [beta0_hat +  beta1_hat * x_domain  + beta2_hat * i + beta3_hat * i * x_domain for i in range(2)]\n",
    "\n",
    "x_domain = np.linspace(np.min(data[predictors[0]]), np.max(data[predictors[0]]), 100)\n",
    "\n",
    "# Plot two fitted line\n",
    "for i in range(2):\n",
    "    plt.plot(x_domain, fitted_values[i], c = c[i], label = f\"Fitted line (paid={i})\", linestyle = linestyles[i])\n",
    "\n",
    "# Add a legend and labels\n",
    "plt.legend()\n",
    "plt.ylabel(f\"{outcome}\")\n",
    "plt.xlabel(f\"{predictors[0]}\")\n",
    "\n",
    "# Add a title and adjust the margins\n",
    "plt.title(\"Data and fitted regression line\")\n",
    "\n",
    "# Show the plot\n",
    "plt.show()"
   ]
  },
  {
   "cell_type": "markdown",
   "id": "57e80e69",
   "metadata": {},
   "source": [
    "## Evaluating Model with Interaction"
   ]
  },
  {
   "cell_type": "code",
   "execution_count": 47,
   "id": "ae71ddce",
   "metadata": {},
   "outputs": [
    {
     "data": {
      "text/plain": [
       "0.6491423293419689"
      ]
     },
     "execution_count": 47,
     "metadata": {},
     "output_type": "execute_result"
    }
   ],
   "source": [
    "results_2.rsquared"
   ]
  },
  {
   "cell_type": "markdown",
   "id": "22a2ffca",
   "metadata": {},
   "source": [
    "The R squared for the model with interaction is around 0.6491. It explained 64.91 of variance of G3"
   ]
  },
  {
   "cell_type": "code",
   "execution_count": 48,
   "id": "b93e1a1d",
   "metadata": {},
   "outputs": [
    {
     "data": {
      "text/plain": [
       "Text(0.5, 1.0, 'Residuals vs. Predicted mpg')"
      ]
     },
     "execution_count": 48,
     "metadata": {},
     "output_type": "execute_result"
    },
    {
     "data": {
      "image/png": "[encoded data removed]",
      "text/plain": [
       "<Figure size 640x480 with 1 Axes>"
      ]
     },
     "metadata": {},
     "output_type": "display_data"
    }
   ],
   "source": [
    "# Residual Plot and Explained Variance\n",
    "plt.scatter(results_2.fittedvalues, results.resid, marker=\".\", c = \"k\")\n",
    "\n",
    "# Plot the horizontal line in 0 as the fitted line\n",
    "plt.axhline([0])\n",
    "\n",
    "plt.xlabel(\"predicted mpg\")\n",
    "plt.ylabel(\"residual\")\n",
    "plt.title(f\"Residuals vs. Predicted mpg\")"
   ]
  }
 ],
 "metadata": {
  "kernelspec": {
   "display_name": "Python 3 (ipykernel)",
   "language": "python",
   "name": "python3"
  },
  "language_info": {
   "codemirror_mode": {
    "name": "ipython",
    "version": 3
   },
   "file_extension": ".py",
   "mimetype": "text/x-python",
   "name": "python",
   "nbconvert_exporter": "python",
   "pygments_lexer": "ipython3",
   "version": "3.9.13"
  }
 },
 "nbformat": 4,
 "nbformat_minor": 5
}
